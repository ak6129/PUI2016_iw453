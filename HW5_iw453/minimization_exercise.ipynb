{
 "cells": [
  {
   "cell_type": "markdown",
   "metadata": {},
   "source": [
    "### experimenting with scipy minimization vs. statsmodel minimization"
   ]
  },
  {
   "cell_type": "code",
   "execution_count": 66,
   "metadata": {
    "collapsed": false
   },
   "outputs": [
    {
     "name": "stdout",
     "output_type": "stream",
     "text": [
      "Populating the interactive namespace from numpy and matplotlib\n"
     ]
    }
   ],
   "source": [
    "from scipy.optimize import minimize\n",
    "import statsmodels.formula.api as smf\n",
    "import pandas as pd\n",
    "import numpy as np\n",
    "import matplotlib.pyplot as plt\n",
    "%pylab inline"
   ]
  },
  {
   "cell_type": "code",
   "execution_count": 77,
   "metadata": {
    "collapsed": true
   },
   "outputs": [],
   "source": [
    "# need an imaginary dataset\n",
    "x_obs = np.arange(-5,5,0.5)"
   ]
  },
  {
   "cell_type": "code",
   "execution_count": 78,
   "metadata": {
    "collapsed": false
   },
   "outputs": [
    {
     "data": {
      "text/plain": [
       "(20,)"
      ]
     },
     "execution_count": 78,
     "metadata": {},
     "output_type": "execute_result"
    }
   ],
   "source": [
    "# make it a wacky 4th order polynomial (we know that b4=1 and b3=3 in reality)\n",
    "y_exact = x_obs**4 + 3*x_obs**3\n",
    "shape(y_exact)"
   ]
  },
  {
   "cell_type": "code",
   "execution_count": 88,
   "metadata": {
    "collapsed": false
   },
   "outputs": [
    {
     "data": {
      "text/plain": [
       "(20,)"
      ]
     },
     "execution_count": 88,
     "metadata": {},
     "output_type": "execute_result"
    }
   ],
   "source": [
    "# add a bunch of error to y_exact, to make it a more realistic dataset\n",
    "y_obs = y_exact + np.random.rand(20)*10\n",
    "shape(y_obs)"
   ]
  },
  {
   "cell_type": "code",
   "execution_count": 90,
   "metadata": {
    "collapsed": false
   },
   "outputs": [
    {
     "name": "stdout",
     "output_type": "stream",
     "text": [
      "(20, 2)\n"
     ]
    },
    {
     "data": {
      "text/html": [
       "<div>\n",
       "<table border=\"1\" class=\"dataframe\">\n",
       "  <thead>\n",
       "    <tr style=\"text-align: right;\">\n",
       "      <th></th>\n",
       "      <th>x</th>\n",
       "      <th>y</th>\n",
       "    </tr>\n",
       "  </thead>\n",
       "  <tbody>\n",
       "    <tr>\n",
       "      <th>0</th>\n",
       "      <td>-5.0</td>\n",
       "      <td>250.503793</td>\n",
       "    </tr>\n",
       "    <tr>\n",
       "      <th>1</th>\n",
       "      <td>-4.5</td>\n",
       "      <td>143.735482</td>\n",
       "    </tr>\n",
       "    <tr>\n",
       "      <th>2</th>\n",
       "      <td>-4.0</td>\n",
       "      <td>72.892716</td>\n",
       "    </tr>\n",
       "    <tr>\n",
       "      <th>3</th>\n",
       "      <td>-3.5</td>\n",
       "      <td>27.551131</td>\n",
       "    </tr>\n",
       "    <tr>\n",
       "      <th>4</th>\n",
       "      <td>-3.0</td>\n",
       "      <td>2.807594</td>\n",
       "    </tr>\n",
       "  </tbody>\n",
       "</table>\n",
       "</div>"
      ],
      "text/plain": [
       "     x           y\n",
       "0 -5.0  250.503793\n",
       "1 -4.5  143.735482\n",
       "2 -4.0   72.892716\n",
       "3 -3.5   27.551131\n",
       "4 -3.0    2.807594"
      ]
     },
     "execution_count": 90,
     "metadata": {},
     "output_type": "execute_result"
    }
   ],
   "source": [
    "# convert to a tidy dataframe\n",
    "d = {'y': y_obs, 'x':x_obs}\n",
    "our_data = pd.DataFrame(d)\n",
    "print shape(our_data)\n",
    "our_data.head()"
   ]
  },
  {
   "cell_type": "code",
   "execution_count": 91,
   "metadata": {
    "collapsed": true
   },
   "outputs": [],
   "source": [
    "# define a function to be the data model - here, we've magically guessed that the model should be of the form:\n",
    "# y = b4*x^4 + b3*x^3 --> just need to fit for the coefficients\n",
    "def our_model(x, coeffs): \n",
    "    return coeffs[0]*x**4 + coeffs[1]*x**3"
   ]
  },
  {
   "cell_type": "code",
   "execution_count": 92,
   "metadata": {
    "collapsed": true
   },
   "outputs": [],
   "source": [
    "# define a function to calculate the sum of squared residuals (RSS) for any given iteration\n",
    "# three args: \n",
    "# 1 - the current \"guess\" at best fitted coefficients\n",
    "# 2 - the underlying model that we're trying to fit\n",
    "# 3 - the dataset we're using\n",
    "def residuals(coeff_approx, model, data):\n",
    "    # get estimated y value for each x point in our dataset\n",
    "    y_approx = data['x'].map(lambda x: model(x, coeff_approx))\n",
    "    # compute RSS\n",
    "    return (y_approx - data['y']).map(lambda diff: diff**2).sum()"
   ]
  },
  {
   "cell_type": "code",
   "execution_count": 93,
   "metadata": {
    "collapsed": true
   },
   "outputs": [],
   "source": [
    "# provide a (random) initial guess for b4 and b3 parameters\n",
    "b_guess = [0.5, 2.5]"
   ]
  },
  {
   "cell_type": "code",
   "execution_count": 94,
   "metadata": {
    "collapsed": false
   },
   "outputs": [],
   "source": [
    "# try to minimize using the scipy method\n",
    "minimized = minimize(residuals, b_guess, args=(our_model, our_data))"
   ]
  },
  {
   "cell_type": "code",
   "execution_count": 1,
   "metadata": {
    "collapsed": false
   },
   "outputs": [
    {
     "ename": "NameError",
     "evalue": "name 'minimized' is not defined",
     "output_type": "error",
     "traceback": [
      "\u001b[0;31m---------------------------------------------------------------------------\u001b[0m",
      "\u001b[0;31mNameError\u001b[0m                                 Traceback (most recent call last)",
      "\u001b[0;32m<ipython-input-1-9f13ae92a4ff>\u001b[0m in \u001b[0;36m<module>\u001b[0;34m()\u001b[0m\n\u001b[0;32m----> 1\u001b[0;31m \u001b[0mminimized\u001b[0m\u001b[0;34m.\u001b[0m\u001b[0mx\u001b[0m\u001b[0;34m\u001b[0m\u001b[0m\n\u001b[0m",
      "\u001b[0;31mNameError\u001b[0m: name 'minimized' is not defined"
     ]
    }
   ],
   "source": [
    "minimized.x"
   ]
  },
  {
   "cell_type": "code",
   "execution_count": 96,
   "metadata": {
    "collapsed": false
   },
   "outputs": [
    {
     "name": "stdout",
     "output_type": "stream",
     "text": [
      "                            OLS Regression Results                            \n",
      "==============================================================================\n",
      "Dep. Variable:                      y   R-squared:                       1.000\n",
      "Model:                            OLS   Adj. R-squared:                  1.000\n",
      "Method:                 Least Squares   F-statistic:                 5.024e+04\n",
      "Date:                Thu, 06 Oct 2016   Prob (F-statistic):           8.72e-33\n",
      "Time:                        12:55:29   Log-Likelihood:                -45.182\n",
      "No. Observations:                  20   AIC:                             96.36\n",
      "Df Residuals:                      17   BIC:                             99.35\n",
      "Df Model:                           2                                         \n",
      "Covariance Type:            nonrobust                                         \n",
      "==============================================================================\n",
      "                 coef    std err          t      P>|t|      [95.0% Conf. Int.]\n",
      "------------------------------------------------------------------------------\n",
      "Intercept      4.8461      0.703      6.891      0.000         3.362     6.330\n",
      "x4             1.0012      0.004    284.955      0.000         0.994     1.009\n",
      "x3             3.0094      0.013    236.291      0.000         2.982     3.036\n",
      "==============================================================================\n",
      "Omnibus:                        0.839   Durbin-Watson:                   2.155\n",
      "Prob(Omnibus):                  0.657   Jarque-Bera (JB):                0.727\n",
      "Skew:                           0.134   Prob(JB):                        0.695\n",
      "Kurtosis:                       2.105   Cond. No.                         269.\n",
      "==============================================================================\n",
      "\n",
      "Warnings:\n",
      "[1] Standard Errors assume that the covariance matrix of the errors is correctly specified.\n"
     ]
    }
   ],
   "source": [
    "# try the statsmodel package now...\n",
    "\n",
    "# first, build the exponential terms right into the dataframe\n",
    "our_data['x4'] = our_data['x'].map(lambda x: x**4)\n",
    "our_data['x3'] = our_data['x'].map(lambda x: x**3)\n",
    "\n",
    "# too easy!\n",
    "stat_fit = smf.ols(formula='y ~ x4 + x3', data=our_data).fit()\n",
    "print stat_fit.summary()"
   ]
  }
 ],
 "metadata": {
  "kernelspec": {
   "display_name": "Python 2",
   "language": "python",
   "name": "python2"
  },
  "language_info": {
   "codemirror_mode": {
    "name": "ipython",
    "version": 2
   },
   "file_extension": ".py",
   "mimetype": "text/x-python",
   "name": "python",
   "nbconvert_exporter": "python",
   "pygments_lexer": "ipython2",
   "version": "2.7.11"
  }
 },
 "nbformat": 4,
 "nbformat_minor": 0
}
