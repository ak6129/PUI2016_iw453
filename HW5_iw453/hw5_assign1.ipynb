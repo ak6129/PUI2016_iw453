{
 "cells": [
  {
   "cell_type": "markdown",
   "metadata": {},
   "source": [
    "## PUI 2016 HOMEWORK 5, ASSIGNMENT 1\n",
    "#### Ian Wright, iw453\n",
    "#### October 2016"
   ]
  },
  {
   "cell_type": "code",
   "execution_count": 38,
   "metadata": {
    "collapsed": false
   },
   "outputs": [
    {
     "name": "stdout",
     "output_type": "stream",
     "text": [
      "Populating the interactive namespace from numpy and matplotlib\n"
     ]
    }
   ],
   "source": [
    "# for analysis\n",
    "import pandas as pd\n",
    "import numpy as np\n",
    "import os\n",
    "from scipy.optimize import curve_fit\n",
    "import scipy.stats as stats\n",
    "import matplotlib.pyplot as plt\n",
    "from getCitiBikeCSV import getCitiBikeCSV\n",
    "%pylab inline\n",
    "plt.style.use('ggplot')\n",
    "\n",
    "# for reverse geocoding routine\n",
    "import urllib, json\n",
    "import csv\n",
    "\n",
    "# relevant system environment vars\n",
    "dataLand = os.getenv('PUIDATA')"
   ]
  },
  {
   "cell_type": "markdown",
   "metadata": {},
   "source": [
    "## Data collection & cleaning"
   ]
  },
  {
   "cell_type": "code",
   "execution_count": 3,
   "metadata": {
    "collapsed": false
   },
   "outputs": [
    {
     "name": "stdout",
     "output_type": "stream",
     "text": [
      "('Downloading', '201608')\n",
      "file in place, you can continue\n",
      "('Downloading', '201609')\n",
      "file in place, you can continue\n"
     ]
    }
   ],
   "source": [
    "# download two most recent months of citibike data to working directory\n",
    "datestring1 = '201608'\n",
    "datestring2 = '201609'\n",
    "getCitiBikeCSV(datestring1)\n",
    "getCitiBikeCSV(datestring2)"
   ]
  },
  {
   "cell_type": "code",
   "execution_count": 5,
   "metadata": {
    "collapsed": false
   },
   "outputs": [],
   "source": [
    "# read in the data from working directory\n",
    "aug2016 = pd.read_csv(dataLand + '/' + datestring1 + '-citibike-tripdata.csv')\n",
    "sep2016 = pd.read_csv(dataLand + '/' + datestring2 + '-citibike-tripdata.csv')"
   ]
  },
  {
   "cell_type": "code",
   "execution_count": 6,
   "metadata": {
    "collapsed": false
   },
   "outputs": [
    {
     "data": {
      "text/plain": [
       "Index([u'tripduration', u'starttime', u'stoptime', u'start station id',\n",
       "       u'start station name', u'start station latitude',\n",
       "       u'start station longitude', u'end station id', u'end station name',\n",
       "       u'end station latitude', u'end station longitude', u'bikeid',\n",
       "       u'usertype', u'birth year', u'gender'],\n",
       "      dtype='object')"
      ]
     },
     "execution_count": 6,
     "metadata": {},
     "output_type": "execute_result"
    }
   ],
   "source": [
    "# concatenate the two months of data into one df\n",
    "two_months = [aug2016, sep2016]\n",
    "df = pd.concat(two_months, axis=0)\n",
    "df.columns"
   ]
  },
  {
   "cell_type": "code",
   "execution_count": 7,
   "metadata": {
    "collapsed": false
   },
   "outputs": [],
   "source": [
    "# drop the unnecessary columns\n",
    "df.drop([u'tripduration', u'starttime', u'stoptime',\n",
    "       u'start station name', u'end station id', u'end station name',\n",
    "       u'end station latitude', u'end station longitude', u'bikeid',\n",
    "       u'usertype', u'gender'], axis=1, inplace=True)"
   ]
  },
  {
   "cell_type": "code",
   "execution_count": 8,
   "metadata": {
    "collapsed": false
   },
   "outputs": [
    {
     "data": {
      "text/html": [
       "<div>\n",
       "<table border=\"1\" class=\"dataframe\">\n",
       "  <thead>\n",
       "    <tr style=\"text-align: right;\">\n",
       "      <th></th>\n",
       "      <th>start station id</th>\n",
       "      <th>start station latitude</th>\n",
       "      <th>start station longitude</th>\n",
       "      <th>birth year</th>\n",
       "    </tr>\n",
       "  </thead>\n",
       "  <tbody>\n",
       "    <tr>\n",
       "      <th>0</th>\n",
       "      <td>302</td>\n",
       "      <td>40.720828</td>\n",
       "      <td>-73.977932</td>\n",
       "      <td>1961.0</td>\n",
       "    </tr>\n",
       "    <tr>\n",
       "      <th>1</th>\n",
       "      <td>285</td>\n",
       "      <td>40.734546</td>\n",
       "      <td>-73.990741</td>\n",
       "      <td>1989.0</td>\n",
       "    </tr>\n",
       "    <tr>\n",
       "      <th>2</th>\n",
       "      <td>539</td>\n",
       "      <td>40.715348</td>\n",
       "      <td>-73.960241</td>\n",
       "      <td>1971.0</td>\n",
       "    </tr>\n",
       "    <tr>\n",
       "      <th>3</th>\n",
       "      <td>280</td>\n",
       "      <td>40.733320</td>\n",
       "      <td>-73.995101</td>\n",
       "      <td>1995.0</td>\n",
       "    </tr>\n",
       "    <tr>\n",
       "      <th>4</th>\n",
       "      <td>161</td>\n",
       "      <td>40.729170</td>\n",
       "      <td>-73.998102</td>\n",
       "      <td>1993.0</td>\n",
       "    </tr>\n",
       "  </tbody>\n",
       "</table>\n",
       "</div>"
      ],
      "text/plain": [
       "   start station id  start station latitude  start station longitude  \\\n",
       "0               302               40.720828               -73.977932   \n",
       "1               285               40.734546               -73.990741   \n",
       "2               539               40.715348               -73.960241   \n",
       "3               280               40.733320               -73.995101   \n",
       "4               161               40.729170               -73.998102   \n",
       "\n",
       "   birth year  \n",
       "0      1961.0  \n",
       "1      1989.0  \n",
       "2      1971.0  \n",
       "3      1995.0  \n",
       "4      1993.0  "
      ]
     },
     "execution_count": 8,
     "metadata": {},
     "output_type": "execute_result"
    }
   ],
   "source": [
    "df.head()"
   ]
  },
  {
   "cell_type": "code",
   "execution_count": 9,
   "metadata": {
    "collapsed": false
   },
   "outputs": [
    {
     "data": {
      "text/html": [
       "<div>\n",
       "<table border=\"1\" class=\"dataframe\">\n",
       "  <thead>\n",
       "    <tr style=\"text-align: right;\">\n",
       "      <th></th>\n",
       "      <th>start station id</th>\n",
       "      <th>start station latitude</th>\n",
       "      <th>start station longitude</th>\n",
       "      <th>birth year</th>\n",
       "      <th>age</th>\n",
       "    </tr>\n",
       "  </thead>\n",
       "  <tbody>\n",
       "    <tr>\n",
       "      <th>0</th>\n",
       "      <td>302</td>\n",
       "      <td>40.720828</td>\n",
       "      <td>-73.977932</td>\n",
       "      <td>1961.0</td>\n",
       "      <td>55.0</td>\n",
       "    </tr>\n",
       "    <tr>\n",
       "      <th>1</th>\n",
       "      <td>285</td>\n",
       "      <td>40.734546</td>\n",
       "      <td>-73.990741</td>\n",
       "      <td>1989.0</td>\n",
       "      <td>27.0</td>\n",
       "    </tr>\n",
       "    <tr>\n",
       "      <th>2</th>\n",
       "      <td>539</td>\n",
       "      <td>40.715348</td>\n",
       "      <td>-73.960241</td>\n",
       "      <td>1971.0</td>\n",
       "      <td>45.0</td>\n",
       "    </tr>\n",
       "    <tr>\n",
       "      <th>3</th>\n",
       "      <td>280</td>\n",
       "      <td>40.733320</td>\n",
       "      <td>-73.995101</td>\n",
       "      <td>1995.0</td>\n",
       "      <td>21.0</td>\n",
       "    </tr>\n",
       "    <tr>\n",
       "      <th>4</th>\n",
       "      <td>161</td>\n",
       "      <td>40.729170</td>\n",
       "      <td>-73.998102</td>\n",
       "      <td>1993.0</td>\n",
       "      <td>23.0</td>\n",
       "    </tr>\n",
       "  </tbody>\n",
       "</table>\n",
       "</div>"
      ],
      "text/plain": [
       "   start station id  start station latitude  start station longitude  \\\n",
       "0               302               40.720828               -73.977932   \n",
       "1               285               40.734546               -73.990741   \n",
       "2               539               40.715348               -73.960241   \n",
       "3               280               40.733320               -73.995101   \n",
       "4               161               40.729170               -73.998102   \n",
       "\n",
       "   birth year   age  \n",
       "0      1961.0  55.0  \n",
       "1      1989.0  27.0  \n",
       "2      1971.0  45.0  \n",
       "3      1995.0  21.0  \n",
       "4      1993.0  23.0  "
      ]
     },
     "execution_count": 9,
     "metadata": {},
     "output_type": "execute_result"
    }
   ],
   "source": [
    "df['age'] = df['birth year'].map(lambda birth: 2016 - birth)\n",
    "df.head()"
   ]
  },
  {
   "cell_type": "code",
   "execution_count": 10,
   "metadata": {
    "collapsed": false,
    "scrolled": true
   },
   "outputs": [
    {
     "name": "stdout",
     "output_type": "stream",
     "text": [
      "max: 131.0\n",
      "min: 16.0\n"
     ]
    }
   ],
   "source": [
    "# remove outliers\n",
    "print 'max:', max(df['age'])\n",
    "print 'min:', min(df['age'])"
   ]
  },
  {
   "cell_type": "code",
   "execution_count": 11,
   "metadata": {
    "collapsed": false
   },
   "outputs": [
    {
     "name": "stdout",
     "output_type": "stream",
     "text": [
      "original dataset size: 3206519\n",
      "trimmed dataset size: 2775120\n"
     ]
    }
   ],
   "source": [
    "print 'original dataset size:',len(df)\n",
    "# giving the elderly the benefit of the doubt here...\n",
    "df = df[df['age'] < 90]\n",
    "print 'trimmed dataset size:',len(df)"
   ]
  },
  {
   "cell_type": "markdown",
   "metadata": {},
   "source": [
    "### Reverse geocoding unique citibike stations"
   ]
  },
  {
   "cell_type": "markdown",
   "metadata": {},
   "source": [
    "I'm going to use an online tool by Chris Bell (https://www.doogal.co.uk/BatchReverseGeocoding.php) to reverse geocode the lat-long starting coordinates of each citibike station into zip codes, and subsequently NYC burroughs."
   ]
  },
  {
   "cell_type": "code",
   "execution_count": 12,
   "metadata": {
    "collapsed": false
   },
   "outputs": [],
   "source": [
    "# access citibike api endpoint to get a dict of all operating citibike stations in the city\n",
    "url = \"https://feeds.citibikenyc.com/stations/stations.json\"\n",
    "response = urllib.urlopen(url)\n",
    "stations = json.loads(response.read())"
   ]
  },
  {
   "cell_type": "code",
   "execution_count": 13,
   "metadata": {
    "collapsed": false
   },
   "outputs": [],
   "source": [
    "# pare down the station dict to only the relevant fields\n",
    "station_coord = [{'id':station['id'],\n",
    "                 'latitude':station['latitude'],\n",
    "                'longitude':station['longitude']} \n",
    "                for station in stations['stationBeanList']]"
   ]
  },
  {
   "cell_type": "code",
   "execution_count": 14,
   "metadata": {
    "collapsed": true
   },
   "outputs": [],
   "source": [
    "# write a csv file with this data --> will use in a reverse geocoder to get stations' zip codes\n",
    "with open('stations_latlong.csv', 'w') as f:\n",
    "    writer = csv.DictWriter(f, fieldnames=station_coord[0].keys())\n",
    "    writer.writeheader()\n",
    "    writer.writerows(station_coord)"
   ]
  },
  {
   "cell_type": "markdown",
   "metadata": {},
   "source": [
    "I used a reverse geocoder to get a corresponding zip code for each station. The station-->zip mapping is in a small csv file 'station_zip_mapping.csv'"
   ]
  },
  {
   "cell_type": "code",
   "execution_count": 15,
   "metadata": {
    "collapsed": false
   },
   "outputs": [
    {
     "name": "stdout",
     "output_type": "stream",
     "text": [
      "    id    zip\n",
      "0   72  10019\n",
      "1   79  10013\n",
      "2   82  10038\n",
      "3   83  11217\n",
      "4  116  10011\n",
      "664 zips\n"
     ]
    }
   ],
   "source": [
    "station_zip_map = pd.read_csv(dataLand + '/' + 'station_zip_mapping.csv')\n",
    "print station_zip_map.head()\n",
    "print len(station_zip_map), 'zips'"
   ]
  },
  {
   "cell_type": "code",
   "execution_count": 16,
   "metadata": {
    "collapsed": true
   },
   "outputs": [],
   "source": [
    "# make 6 lists of zip codes which make up each borough (split manhattan up and down)\n",
    "bk_zips = [11201, 11203, 11204, 11205, 11206, 11207, 11208, 11209, 11210, 11211, 11212, \n",
    "           11213, 11214, 11215, 11216, 11217, 11218, 11219, 11220, 11221, 11222, 11223, \n",
    "           11224, 11225, 11226, 11228, 11229, 11230, 11231, 11232, 11233, 11234, 11235, \n",
    "           11236, 11237, 11238, 11239, 11251, 11249]\n",
    "queens_zips = [11001, 11004, 11005, 11040, 11096, 11101, 11102, 11103, 11104, 11105, 11106, \n",
    "               11109, 11354, 11355, 11356, 11357, 11358, 11359, 11360, 11361, 11362, 11363, \n",
    "               11364, 11365, 11366, 11367, 11368, 11369, 11371, 11372, 11373, 11374, 11375, \n",
    "               11377, 11378, 11379, 11385, 11411, 11412, 11413, 11414, 11415, 11416, 11417, \n",
    "               11418, 11419, 11420, 11421, 11422, 11423, 11426, 11427, 11428, 11429, 11430, \n",
    "               11432, 11433, 11434, 11435, 11436, 11451, 11691, 11692, 11694, 11697]\n",
    "bronx_zips = [10451, 10452, 10453, 10454, 10455, 10456, 10457, 10458, 10459, 10460, 10461, \n",
    "              10462, 10465, 10466, 10467, 10468, 10469, 10470, 10471, 10472, 10473, 10474, \n",
    "              10475]\n",
    "man_up_zips = [10036, 10017, 10022, 10111, 10115, 10019, 10020, 10069, 10023, 10065, 10021, \n",
    "               10075, 10028, 10128, 10029, 10024, 10025, 10026, 10027, 10035, 10031, 10030, \n",
    "               10037, 10039, 10032, 10033, 10040, 10034, 10044, 10155]\n",
    "man_down_zips = [10004, 10280, 10006, 10005, 10038, 10048, 10281, 10007, 10282, 10013, 10002, \n",
    "                 10012, 10014, 10009, 10003, 10011, 10010, 10001, 10016, 10018, 10045, 10168]\n",
    "staten_zips = [10301, 10302, 10303, 10304, 10305, 10306, 10307, 10308, 10309, 10310, 10312, \n",
    "               10314]"
   ]
  },
  {
   "cell_type": "code",
   "execution_count": 17,
   "metadata": {
    "collapsed": false
   },
   "outputs": [],
   "source": [
    "# map zips to borough\n",
    "station_zip_map['Borough'] = 'Unknown'\n",
    "for index, row in station_zip_map.iterrows():\n",
    "    if row['zip'] in bk_zips:\n",
    "        station_zip_map.set_value(index, 'Borough', 'Brooklyn')\n",
    "    elif row['zip'] in queens_zips:\n",
    "        station_zip_map.set_value(index, 'Borough', 'Queens')\n",
    "    elif row['zip'] in man_up_zips:\n",
    "        station_zip_map.set_value(index, 'Borough', 'ManhattanUpper')\n",
    "    elif row['zip'] in man_down_zips:\n",
    "        station_zip_map.set_value(index, 'Borough', 'ManhattanLower')\n",
    "    elif row['zip'] in staten_zips:\n",
    "        station_zip_map.set_value(index, 'Borough', 'Staten')\n",
    "    elif row['zip'] in bronx_zips:\n",
    "        station_zip_map.set_value(index, 'Borough', 'Bronx')\n",
    "    else:\n",
    "        pass"
   ]
  },
  {
   "cell_type": "code",
   "execution_count": 18,
   "metadata": {
    "collapsed": false
   },
   "outputs": [
    {
     "data": {
      "text/html": [
       "<div>\n",
       "<table border=\"1\" class=\"dataframe\">\n",
       "  <thead>\n",
       "    <tr style=\"text-align: right;\">\n",
       "      <th></th>\n",
       "      <th>id</th>\n",
       "      <th>zip</th>\n",
       "      <th>Borough</th>\n",
       "    </tr>\n",
       "  </thead>\n",
       "  <tbody>\n",
       "    <tr>\n",
       "      <th>0</th>\n",
       "      <td>72</td>\n",
       "      <td>10019</td>\n",
       "      <td>ManhattanUpper</td>\n",
       "    </tr>\n",
       "    <tr>\n",
       "      <th>1</th>\n",
       "      <td>79</td>\n",
       "      <td>10013</td>\n",
       "      <td>ManhattanLower</td>\n",
       "    </tr>\n",
       "    <tr>\n",
       "      <th>2</th>\n",
       "      <td>82</td>\n",
       "      <td>10038</td>\n",
       "      <td>ManhattanLower</td>\n",
       "    </tr>\n",
       "    <tr>\n",
       "      <th>3</th>\n",
       "      <td>83</td>\n",
       "      <td>11217</td>\n",
       "      <td>Brooklyn</td>\n",
       "    </tr>\n",
       "    <tr>\n",
       "      <th>4</th>\n",
       "      <td>116</td>\n",
       "      <td>10011</td>\n",
       "      <td>ManhattanLower</td>\n",
       "    </tr>\n",
       "  </tbody>\n",
       "</table>\n",
       "</div>"
      ],
      "text/plain": [
       "    id    zip         Borough\n",
       "0   72  10019  ManhattanUpper\n",
       "1   79  10013  ManhattanLower\n",
       "2   82  10038  ManhattanLower\n",
       "3   83  11217        Brooklyn\n",
       "4  116  10011  ManhattanLower"
      ]
     },
     "execution_count": 18,
     "metadata": {},
     "output_type": "execute_result"
    }
   ],
   "source": [
    "station_zip_map.head()"
   ]
  },
  {
   "cell_type": "code",
   "execution_count": 19,
   "metadata": {
    "collapsed": false
   },
   "outputs": [
    {
     "data": {
      "text/html": [
       "<div>\n",
       "<table border=\"1\" class=\"dataframe\">\n",
       "  <thead>\n",
       "    <tr style=\"text-align: right;\">\n",
       "      <th></th>\n",
       "      <th>start station id</th>\n",
       "      <th>start station latitude</th>\n",
       "      <th>start station longitude</th>\n",
       "      <th>birth year</th>\n",
       "      <th>age</th>\n",
       "      <th>id</th>\n",
       "      <th>zip</th>\n",
       "      <th>Borough</th>\n",
       "    </tr>\n",
       "  </thead>\n",
       "  <tbody>\n",
       "    <tr>\n",
       "      <th>0</th>\n",
       "      <td>302</td>\n",
       "      <td>40.720828</td>\n",
       "      <td>-73.977932</td>\n",
       "      <td>1961.0</td>\n",
       "      <td>55.0</td>\n",
       "      <td>302.0</td>\n",
       "      <td>10009.0</td>\n",
       "      <td>ManhattanLower</td>\n",
       "    </tr>\n",
       "    <tr>\n",
       "      <th>1</th>\n",
       "      <td>285</td>\n",
       "      <td>40.734546</td>\n",
       "      <td>-73.990741</td>\n",
       "      <td>1989.0</td>\n",
       "      <td>27.0</td>\n",
       "      <td>285.0</td>\n",
       "      <td>10003.0</td>\n",
       "      <td>ManhattanLower</td>\n",
       "    </tr>\n",
       "    <tr>\n",
       "      <th>2</th>\n",
       "      <td>539</td>\n",
       "      <td>40.715348</td>\n",
       "      <td>-73.960241</td>\n",
       "      <td>1971.0</td>\n",
       "      <td>45.0</td>\n",
       "      <td>539.0</td>\n",
       "      <td>11249.0</td>\n",
       "      <td>Brooklyn</td>\n",
       "    </tr>\n",
       "    <tr>\n",
       "      <th>3</th>\n",
       "      <td>280</td>\n",
       "      <td>40.733320</td>\n",
       "      <td>-73.995101</td>\n",
       "      <td>1995.0</td>\n",
       "      <td>21.0</td>\n",
       "      <td>280.0</td>\n",
       "      <td>10003.0</td>\n",
       "      <td>ManhattanLower</td>\n",
       "    </tr>\n",
       "    <tr>\n",
       "      <th>4</th>\n",
       "      <td>161</td>\n",
       "      <td>40.729170</td>\n",
       "      <td>-73.998102</td>\n",
       "      <td>1993.0</td>\n",
       "      <td>23.0</td>\n",
       "      <td>161.0</td>\n",
       "      <td>10012.0</td>\n",
       "      <td>ManhattanLower</td>\n",
       "    </tr>\n",
       "  </tbody>\n",
       "</table>\n",
       "</div>"
      ],
      "text/plain": [
       "   start station id  start station latitude  start station longitude  \\\n",
       "0               302               40.720828               -73.977932   \n",
       "1               285               40.734546               -73.990741   \n",
       "2               539               40.715348               -73.960241   \n",
       "3               280               40.733320               -73.995101   \n",
       "4               161               40.729170               -73.998102   \n",
       "\n",
       "   birth year   age     id      zip         Borough  \n",
       "0      1961.0  55.0  302.0  10009.0  ManhattanLower  \n",
       "1      1989.0  27.0  285.0  10003.0  ManhattanLower  \n",
       "2      1971.0  45.0  539.0  11249.0        Brooklyn  \n",
       "3      1995.0  21.0  280.0  10003.0  ManhattanLower  \n",
       "4      1993.0  23.0  161.0  10012.0  ManhattanLower  "
      ]
     },
     "execution_count": 19,
     "metadata": {},
     "output_type": "execute_result"
    }
   ],
   "source": [
    "# Finally, we can join this helper dataframe onto our original dataset\n",
    "df_borr = df.merge(station_zip_map, how='left', left_on='start station id', right_on='id' )\n",
    "df_borr.head()"
   ]
  },
  {
   "cell_type": "code",
   "execution_count": 20,
   "metadata": {
    "collapsed": false
   },
   "outputs": [
    {
     "data": {
      "text/plain": [
       "array([ 7306.])"
      ]
     },
     "execution_count": 20,
     "metadata": {},
     "output_type": "execute_result"
    }
   ],
   "source": [
    "# check if we're missing some zipcodes in our mapping\n",
    "df_borr[df_borr['Borough']=='Unknown']['zip'].unique()"
   ]
  },
  {
   "cell_type": "code",
   "execution_count": 21,
   "metadata": {
    "collapsed": false
   },
   "outputs": [
    {
     "name": "stdout",
     "output_type": "stream",
     "text": [
      "original length: 2775120\n",
      "trimmed length: 2771797\n"
     ]
    }
   ],
   "source": [
    "# that looks like a garbage zip code, so we'll drop those records\n",
    "print 'original length:', len(df_borr)\n",
    "df_borr = df_borr[df_borr['zip'] != 7306.]\n",
    "print 'trimmed length:', len(df_borr)"
   ]
  },
  {
   "cell_type": "code",
   "execution_count": 22,
   "metadata": {
    "collapsed": false
   },
   "outputs": [
    {
     "data": {
      "text/html": [
       "<div>\n",
       "<table border=\"1\" class=\"dataframe\">\n",
       "  <thead>\n",
       "    <tr style=\"text-align: right;\">\n",
       "      <th></th>\n",
       "      <th>age</th>\n",
       "      <th>Borough</th>\n",
       "    </tr>\n",
       "  </thead>\n",
       "  <tbody>\n",
       "    <tr>\n",
       "      <th>0</th>\n",
       "      <td>55.0</td>\n",
       "      <td>ManhattanLower</td>\n",
       "    </tr>\n",
       "    <tr>\n",
       "      <th>1</th>\n",
       "      <td>27.0</td>\n",
       "      <td>ManhattanLower</td>\n",
       "    </tr>\n",
       "    <tr>\n",
       "      <th>2</th>\n",
       "      <td>45.0</td>\n",
       "      <td>Brooklyn</td>\n",
       "    </tr>\n",
       "    <tr>\n",
       "      <th>3</th>\n",
       "      <td>21.0</td>\n",
       "      <td>ManhattanLower</td>\n",
       "    </tr>\n",
       "    <tr>\n",
       "      <th>4</th>\n",
       "      <td>23.0</td>\n",
       "      <td>ManhattanLower</td>\n",
       "    </tr>\n",
       "  </tbody>\n",
       "</table>\n",
       "</div>"
      ],
      "text/plain": [
       "    age         Borough\n",
       "0  55.0  ManhattanLower\n",
       "1  27.0  ManhattanLower\n",
       "2  45.0        Brooklyn\n",
       "3  21.0  ManhattanLower\n",
       "4  23.0  ManhattanLower"
      ]
     },
     "execution_count": 22,
     "metadata": {},
     "output_type": "execute_result"
    }
   ],
   "source": [
    "# and we can drop all columns except for age and borough\n",
    "df = df_borr.drop([u'start station id', u'start station latitude',\n",
    "       u'start station longitude', u'birth year', u'id', u'zip'], axis=1)\n",
    "df.head()"
   ]
  },
  {
   "cell_type": "markdown",
   "metadata": {},
   "source": [
    "## Fitting the data with a Gaussian (Normal) curve\n",
    "(credit to this stackoverflow thread for information on fitting curves with scipy: http://stackoverflow.com/questions/11507028/fit-a-gaussian-function)"
   ]
  },
  {
   "cell_type": "code",
   "execution_count": 25,
   "metadata": {
    "collapsed": false
   },
   "outputs": [],
   "source": [
    "# NOTE - there is obviously a shorter way to fit a normal curve to a dataset... \n",
    "# but this was a learning experience?\n",
    "\n",
    "# to fit our age distribution to a normal curve, we first need to put it into a set of bins (a histogram)\n",
    "# using bins of size 1, for each age in the distribution\n",
    "edges = np.arange(min(df['age']), max(df['age']) + 1, 1)\n",
    "age_counts, age_bin_edges = np.histogram(df['age'], bins=edges)\n",
    "\n",
    "# the x-values for the distribution will be \"left edges\" of the bins (just the age integer)\n",
    "ages = age_bin_edges[:-1]"
   ]
  },
  {
   "cell_type": "code",
   "execution_count": 26,
   "metadata": {
    "collapsed": false
   },
   "outputs": [
    {
     "data": {
      "text/plain": [
       "array([ 16.,  17.,  18.,  19.,  20.,  21.,  22.,  23.,  24.,  25.,  26.,\n",
       "        27.,  28.,  29.,  30.,  31.,  32.,  33.,  34.,  35.,  36.,  37.,\n",
       "        38.,  39.,  40.,  41.,  42.,  43.,  44.,  45.,  46.,  47.,  48.,\n",
       "        49.,  50.,  51.,  52.,  53.,  54.,  55.,  56.,  57.,  58.,  59.,\n",
       "        60.,  61.,  62.,  63.,  64.,  65.,  66.,  67.,  68.,  69.,  70.,\n",
       "        71.,  72.,  73.,  74.,  75.,  76.,  77.,  78.,  79.,  80.,  81.,\n",
       "        82.,  83.,  84.])"
      ]
     },
     "execution_count": 26,
     "metadata": {},
     "output_type": "execute_result"
    }
   ],
   "source": [
    "ages"
   ]
  },
  {
   "cell_type": "code",
   "execution_count": 27,
   "metadata": {
    "collapsed": false
   },
   "outputs": [
    {
     "name": "stdout",
     "output_type": "stream",
     "text": [
      "DescribeResult(nobs=2771797, minmax=(16.0, 85.0), mean=37.560386998037735, variance=130.92240469503332, skewness=0.7218227504191055, kurtosis=-0.17370903596911136)\n",
      "121956\n"
     ]
    }
   ],
   "source": [
    "# look at the data so we can have an educated guess about the gaussian distribution's parameters\n",
    "print stats.describe(df['age'])\n",
    "print max(age_counts)"
   ]
  },
  {
   "cell_type": "markdown",
   "metadata": {},
   "source": [
    "We know the gaussian function to have three parameters:\n",
    "![Gaussian Function](https://wikimedia.org/api/rest_v1/media/math/render/svg/9e401667431be9984c7a01192a6329be14d641f1)\n",
    "Where \n",
    "+ a = curve height (amplitude)\n",
    "+ b = mean\n",
    "+ c = standard deviation"
   ]
  },
  {
   "cell_type": "code",
   "execution_count": 28,
   "metadata": {
    "collapsed": true
   },
   "outputs": [],
   "source": [
    "# let's define that curve in python code\n",
    "def gauss(x, *args):\n",
    "    a, mu, sigma = args\n",
    "    return a*np.exp(-((x-mu)**2)/(2.*sigma**2))"
   ]
  },
  {
   "cell_type": "markdown",
   "metadata": {},
   "source": [
    "To fit the curve, we'll use scipy.curve_fit(), which takes 4 args:\n",
    "+ a function to fit to our dataset (in this case, gaussian function)\n",
    "+ dataset x values; the centerpoints of our histogram bins along the x axis\n",
    "+ dataset y values; the frequencies (size) from the histogram bins of our data\n",
    "+ intitial guess for function parameters; a, mu, and sigma\n",
    "And returns an array of coefficients for the fitted curve, and a covariance matrix"
   ]
  },
  {
   "cell_type": "code",
   "execution_count": 29,
   "metadata": {
    "collapsed": true
   },
   "outputs": [],
   "source": [
    "# define an initial guess for (a, mu, sigma)\n",
    "coeffs_0 = [60000, 38, np.sqrt(129)]"
   ]
  },
  {
   "cell_type": "code",
   "execution_count": 30,
   "metadata": {
    "collapsed": true
   },
   "outputs": [],
   "source": [
    "# fit the gaussian\n",
    "coeffs_fit, covar_fit = curve_fit(gauss, ages, age_counts, p0=coeffs_0)\n",
    "fitted_curve = gauss(ages, *coeffs_fit)"
   ]
  },
  {
   "cell_type": "code",
   "execution_count": 31,
   "metadata": {
    "collapsed": false,
    "scrolled": true
   },
   "outputs": [
    {
     "data": {
      "image/png": "[encoded data removed]",
      "text/plain": [
       "<matplotlib.figure.Figure at 0x11d324410>"
      ]
     },
     "metadata": {},
     "output_type": "display_data"
    },
    {
     "name": "stdout",
     "output_type": "stream",
     "text": [
      "Gaussian parameters (a, mu, sigma): [  1.00369769e+05   3.36579541e+01   1.09580895e+01]\n"
     ]
    }
   ],
   "source": [
    "# plot the sample distribution against the fitted normal curve\n",
    "fig, ax = plt.subplots()\n",
    "fig.set_size_inches(12,7)\n",
    "ax.plot(ages, fitted_curve, label='Fitted Gaussian', linewidth=3)\n",
    "ax.bar(ages, age_counts, label='Citibike Age Distribution', alpha=0.5)\n",
    "ax.legend()\n",
    "ax.set_xlabel('Age')\n",
    "ax.set_ylabel('f(age)')\n",
    "plt.show()\n",
    "\n",
    "print 'Gaussian parameters (a, mu, sigma):', coeffs_fit"
   ]
  },
  {
   "cell_type": "markdown",
   "metadata": {},
   "source": [
    "#### Figure 1: Citibike age distribution with a fitted Gaussian curve"
   ]
  },
  {
   "cell_type": "markdown",
   "metadata": {},
   "source": [
    "## Assessing goodness of fit for Gaussian/Normal curve"
   ]
  },
  {
   "cell_type": "markdown",
   "metadata": {},
   "source": [
    "### Kolmogorov-Smirnov (KS) Test"
   ]
  },
  {
   "cell_type": "markdown",
   "metadata": {},
   "source": [
    "scipy's one-sample KS-test compares a given sample against a known STANDARDIZED normal distribution (which means sigma=1, mu=0). So before we make the comparison, we need to normalize our age array using the gaussian paramters we just fit."
   ]
  },
  {
   "cell_type": "code",
   "execution_count": 32,
   "metadata": {
    "collapsed": false
   },
   "outputs": [],
   "source": [
    "standardized_age = (df['age'] - coeffs_fit[1]) / coeffs_fit[2]"
   ]
  },
  {
   "cell_type": "markdown",
   "metadata": {},
   "source": [
    "#### $H_0$: The standardized distribution of citibike rider age is IDENTICAL to a regular standard normal distribution of mean 0 and standard deviation 1; $\\alpha = 0.05$"
   ]
  },
  {
   "cell_type": "code",
   "execution_count": 33,
   "metadata": {
    "collapsed": false
   },
   "outputs": [
    {
     "name": "stdout",
     "output_type": "stream",
     "text": [
      "KstestResult(statistic=1.0, pvalue=0.0)\n",
      "KstestResult(statistic=0.13226932837116445, pvalue=0.0)\n"
     ]
    }
   ],
   "source": [
    "# to illustrate the difference of the KS test for both the standardized and non-standardized datasets, show both:\n",
    "print stats.kstest(df['age'], 'norm')\n",
    "print stats.kstest(standardized_age, 'norm')"
   ]
  },
  {
   "cell_type": "markdown",
   "metadata": {},
   "source": [
    "We reject the null if: $D > \\frac{1.36}{\\sqrt{N}}$"
   ]
  },
  {
   "cell_type": "markdown",
   "metadata": {},
   "source": [
    "Our N is large (2.8M), so our D statistic is certainly larger than this critical value (0.001). We can safely REJECT the null hypothesis that citibike rider ages are distributed normally at $\\alpha = 0.05$\n",
    "\n",
    "Small p-value (approaching zero) re-enforces the rejection of null."
   ]
  },
  {
   "cell_type": "markdown",
   "metadata": {},
   "source": [
    "### Anderson-Darling (AD) Test"
   ]
  },
  {
   "cell_type": "markdown",
   "metadata": {},
   "source": [
    "The null hypothesis is the same:\n",
    "#### $H_0$: The standardized distribution of citibike rider age is IDENTICAL to a regular standard normal distribution of mean 0 and standard deviation 1; $\\alpha = 0.05$"
   ]
  },
  {
   "cell_type": "code",
   "execution_count": 41,
   "metadata": {
    "collapsed": false
   },
   "outputs": [
    {
     "name": "stdout",
     "output_type": "stream",
     "text": [
      "AndersonResult(statistic=48880.548550393898, critical_values=array([ 0.576,  0.656,  0.787,  0.918,  1.092]), significance_level=array([ 15. ,  10. ,   5. ,   2.5,   1. ]))\n"
     ]
    }
   ],
   "source": [
    "print stats.anderson(standardized_age, 'norm')"
   ]
  },
  {
   "cell_type": "markdown",
   "metadata": {},
   "source": [
    "For this test, the critical value depends on the assumed distribution and confidence level. At alpha=0.05, we see the critical value is 0.787. Our AD statistic is MUCH higher than the critical value, so again we REJECT the null hypothesis that citibike rider age is drawn from a normal distribution."
   ]
  },
  {
   "cell_type": "markdown",
   "metadata": {},
   "source": [
    "## Fitting the data with a Log-Normal curve"
   ]
  },
  {
   "cell_type": "markdown",
   "metadata": {},
   "source": [
    "We know the lognormal function to have two parameters:\n",
    "![Gaussian Function](https://wikimedia.org/api/rest_v1/media/math/render/svg/f28880971cb6d8b20b541b4943e518f190528bf2)\n",
    "Where \n",
    "+ mu = mean\n",
    "+ sigma = standard deviation\n",
    "\n",
    "But instead of coding the lognorm function by hand and using curve_fit(), this time we'll just use built-in lognorm functionality from scipy (way faster)."
   ]
  },
  {
   "cell_type": "code",
   "execution_count": 42,
   "metadata": {
    "collapsed": false
   },
   "outputs": [
    {
     "name": "stdout",
     "output_type": "stream",
     "text": [
      "Log-Normal params (scatter, mean, sd): (0.41410996141532597, 9.8194100388763861, 25.499417811812407)\n"
     ]
    }
   ],
   "source": [
    "# fit a lognormal curve to our age data\n",
    "lognormal_params_fitted = stats.lognorm.fit(df['age'])\n",
    "print 'Log-Normal params (scatter, mean, sd):', lognormal_params_fitted"
   ]
  },
  {
   "cell_type": "markdown",
   "metadata": {},
   "source": [
    "For our regular normal distribution, we had a parameter 'a' that acted as a multiplier to the whole distribution... it meant that we didn't need to normalize our histogram into a sum=1 distribution.\n",
    "\n",
    "For the lognormal distribution, there is no such parameter, and so to compare the fitted lognormal PDF to our sample data, we first need to \"normalize\" our binned sample data."
   ]
  },
  {
   "cell_type": "code",
   "execution_count": 43,
   "metadata": {
    "collapsed": false
   },
   "outputs": [],
   "source": [
    "# normalize our real age distribution so that total area = 1\n",
    "age_counts_normal = age_counts.astype(float) / float(age_counts.sum())"
   ]
  },
  {
   "cell_type": "code",
   "execution_count": 46,
   "metadata": {
    "collapsed": false
   },
   "outputs": [
    {
     "data": {
      "image/png": "[encoded data removed]",
      "text/plain": [
       "<matplotlib.figure.Figure at 0x119bcb990>"
      ]
     },
     "metadata": {},
     "output_type": "display_data"
    }
   ],
   "source": [
    "# plot the sample distribution against the fitted LOGNORMAL curve\n",
    "fig, ax = plt.subplots()\n",
    "fig.set_size_inches(12,7)\n",
    "\n",
    "# generate a curve that represents the fitted lognormal PDF\n",
    "lognormal_fitted = stats.lognorm.pdf(ages, \n",
    "                               lognormal_params_fitted[0], \n",
    "                               loc=lognormal_params_fitted[1], \n",
    "                               scale=lognormal_params_fitted[2])\n",
    "ax.plot(ages, lognormal_fitted, label='Fitted LogNormal', linewidth=3)\n",
    "ax.bar(ages, age_counts_normal, label='Citibike Age Distribution', alpha=0.5)\n",
    "ax.legend()\n",
    "ax.set_xlabel('Age')\n",
    "ax.set_ylabel('P(age)')\n",
    "plt.show()"
   ]
  },
  {
   "cell_type": "markdown",
   "metadata": {},
   "source": [
    "#### Figure 2: Citibike age distribution with a fitted Log-Normal curve"
   ]
  },
  {
   "cell_type": "markdown",
   "metadata": {},
   "source": [
    "## Assessing goodness of fit for Log-Normal curve"
   ]
  },
  {
   "cell_type": "markdown",
   "metadata": {},
   "source": [
    "### Kolmogorov-Smirnov (KS) Test"
   ]
  },
  {
   "cell_type": "markdown",
   "metadata": {},
   "source": [
    "#### $H_0$: The distribution of normalized citibike rider age is IDENTICAL to a LogNormal distribution; $\\alpha = 0.05$"
   ]
  },
  {
   "cell_type": "code",
   "execution_count": 48,
   "metadata": {
    "collapsed": false
   },
   "outputs": [
    {
     "name": "stdout",
     "output_type": "stream",
     "text": [
      "KstestResult(statistic=0.049571912212266867, pvalue=0.0)\n"
     ]
    }
   ],
   "source": [
    "print stats.kstest(df['age'], 'lognorm', lognormal_params_fitted)"
   ]
  },
  {
   "cell_type": "markdown",
   "metadata": {},
   "source": [
    "We reject the null if: $D > \\frac{1.36}{\\sqrt{N}}$"
   ]
  },
  {
   "cell_type": "markdown",
   "metadata": {},
   "source": [
    "Again, our N is large, so our D statistic is certainly larger than this critical value (approx 0.001). We can safely REJECT the null hypothesis that citibike rider ages are distributed Log-Normally at $\\alpha = 0.05$\n",
    "\n",
    "Small p-value (approaching zero) re-enforces the rejection of null.\n",
    "\n",
    "#### HOWEVER, it should be noted that this is a far better fit (even if we can't say it's a true log-normal distribution), than the standard normal distribution fit. We can tell the fit is better both visually (Fig. 2), and because our KS-test D-statistic is much smaller than for normal distribution."
   ]
  },
  {
   "cell_type": "markdown",
   "metadata": {},
   "source": [
    "### Anderson-Darling (AD) Test"
   ]
  },
  {
   "cell_type": "markdown",
   "metadata": {},
   "source": [
    "The null hypothesis is the same:\n",
    "#### $H_0$: The distribution of normalized citibike rider age is IDENTICAL to a LogNormal distribution; $\\alpha = 0.05$"
   ]
  },
  {
   "cell_type": "markdown",
   "metadata": {},
   "source": [
    "The Anderson-Darling test can't compute goodness of fit for log-normal distributions (only regular normal), so we need to calculate the logarithm of each age in our sample, and treat the test as if it's a regular normal distribution:"
   ]
  },
  {
   "cell_type": "code",
   "execution_count": 49,
   "metadata": {
    "collapsed": false
   },
   "outputs": [],
   "source": [
    "log_age = np.log(df['age'])"
   ]
  },
  {
   "cell_type": "code",
   "execution_count": 52,
   "metadata": {
    "collapsed": false
   },
   "outputs": [
    {
     "name": "stdout",
     "output_type": "stream",
     "text": [
      "AndersonResult(statistic=15863.523697061464, critical_values=array([ 0.576,  0.656,  0.787,  0.918,  1.092]), significance_level=array([ 15. ,  10. ,   5. ,   2.5,   1. ]))\n"
     ]
    }
   ],
   "source": [
    "print stats.anderson(log_age, 'norm')"
   ]
  },
  {
   "cell_type": "markdown",
   "metadata": {},
   "source": [
    "The result is similar! Our critical value for alpha=0.05 is 0.787, which is much smaller than our AD statistic of 15,863. We REJECT the null hypothesis that the ages of citibike riders are log-normal distributed.\n",
    "\n",
    "HOWEVER, this AD result is still a lot better than that of the regular normal distribution; the statistic, though not critical, is much lower here.\n",
    "\n",
    "It may be sensible to conclude that log-normal is a \"reasonable\" estimate of the distribution."
   ]
  },
  {
   "cell_type": "markdown",
   "metadata": {},
   "source": [
    "## EXTRA CREDIT"
   ]
  },
  {
   "cell_type": "code",
   "execution_count": 65,
   "metadata": {
    "collapsed": false
   },
   "outputs": [
    {
     "data": {
      "image/png": "[encoded data removed]",
      "text/plain": [
       "<matplotlib.figure.Figure at 0x11cc1e2d0>"
      ]
     },
     "metadata": {},
     "output_type": "display_data"
    }
   ],
   "source": [
    "# group citibike dataset by borough\n",
    "dfg = df.groupby('Borough')\n",
    "\n",
    "# first, let's visualize the distribution for each burough\n",
    "fig, axarr = plt.subplots(4,1)\n",
    "fig.set_size_inches(12,16)\n",
    "\n",
    "plot_index = 0\n",
    "for borough, group in dfg:\n",
    "    # group histogram\n",
    "    edges = np.arange(min(group['age']), max(group['age']) + 1, 1)\n",
    "    age_counts, age_bin_edges = np.histogram(group['age'], bins=edges)\n",
    "    age_counts_normal = age_counts.astype(float) / float(age_counts.sum())\n",
    "    ages = age_bin_edges[:-1]\n",
    "    \n",
    "    # group plotting routine\n",
    "    ax = axarr[plot_index]\n",
    "    ax.bar(ages, age_counts_normal)\n",
    "    ax.set_ylabel('P(age)')\n",
    "    if plot_index == 3:\n",
    "        ax.set_xlabel('Age')\n",
    "    ax.set_title('Citibike Age Distribution: ' + borough)\n",
    "    \n",
    "    # increment the subplot index\n",
    "    plot_index += 1\n",
    "\n",
    "plt.show()"
   ]
  },
  {
   "cell_type": "markdown",
   "metadata": {},
   "source": [
    "There don't seem to be any huge differences in distribution across buroughs. The tail on the Brooklyn does look smoother and more log-normal than the rest. Let's try to fit the Brooklyn distribution with a lognormal curve to see if we can get a better fit than overall."
   ]
  },
  {
   "cell_type": "code",
   "execution_count": 85,
   "metadata": {
    "collapsed": false
   },
   "outputs": [
    {
     "name": "stdout",
     "output_type": "stream",
     "text": [
      "Log-Normal params (scatter, mean, sd): (0.36657091594243552, 10.556250295564082, 23.279412874188335)\n"
     ]
    }
   ],
   "source": [
    "# isolate brooklyn datapoints\n",
    "bk_age = dfg.get_group('Brooklyn')['age']\n",
    "\n",
    "# fit a lognormal curve to our age data\n",
    "bk_lognormal_params = stats.lognorm.fit(bk_age)\n",
    "print 'Log-Normal params (scatter, mean, sd):', bk_lognormal_params"
   ]
  },
  {
   "cell_type": "code",
   "execution_count": 86,
   "metadata": {
    "collapsed": true
   },
   "outputs": [],
   "source": [
    "# generate histogram data for Brooklyn age distribution\n",
    "edges = np.arange(min(bk_age), max(bk_age) + 1, 1)\n",
    "bk_age_counts, bk_age_bin_edges = np.histogram(bk_age, bins=edges)\n",
    "bk_age_normal = bk_age_counts.astype(float) / float(bk_age_counts.sum())\n",
    "bk_ages = bk_age_bin_edges[:-1]"
   ]
  },
  {
   "cell_type": "code",
   "execution_count": 89,
   "metadata": {
    "collapsed": false
   },
   "outputs": [
    {
     "data": {
      "image/png": "[encoded data removed]",
      "text/plain": [
       "<matplotlib.figure.Figure at 0x11bc27090>"
      ]
     },
     "metadata": {},
     "output_type": "display_data"
    }
   ],
   "source": [
    "# plot the sample distribution against the fitted LOGNORMAL curve\n",
    "fig, ax = plt.subplots()\n",
    "fig.set_size_inches(12,6)\n",
    "\n",
    "# generate a curve that represents the fitted lognormal PDF\n",
    "bk_lognormal_fitted = stats.lognorm.pdf(bk_ages, \n",
    "                               bk_lognormal_params[0], \n",
    "                               loc=bk_lognormal_params[1], \n",
    "                               scale=bk_lognormal_params[2])\n",
    "ax.plot(bk_ages, bk_lognormal_fitted, label='Fitted LogNormal', linewidth=3)\n",
    "ax.bar(bk_ages, bk_age_normal, label='Citibike Age Distribution', alpha=0.5)\n",
    "ax.legend()\n",
    "ax.set_xlabel('Age')\n",
    "ax.set_ylabel('P(age)')\n",
    "ax.set_title('Fitting Brooklyn Citibike Age Dist. to Log-Normal')\n",
    "plt.show()"
   ]
  },
  {
   "cell_type": "markdown",
   "metadata": {},
   "source": [
    "### Testing goodness of fit with a KS-test"
   ]
  },
  {
   "cell_type": "code",
   "execution_count": 90,
   "metadata": {
    "collapsed": false
   },
   "outputs": [
    {
     "name": "stdout",
     "output_type": "stream",
     "text": [
      "KstestResult(statistic=0.049887004784214151, pvalue=0.0)\n"
     ]
    }
   ],
   "source": [
    "print stats.kstest(bk_age, 'lognorm', bk_lognormal_params)"
   ]
  },
  {
   "cell_type": "markdown",
   "metadata": {},
   "source": [
    "Unfortunately, this D-Statistic is about the same as that of the overall distribution. We must reject the null hypothesis that the age of Brooklyn Citibike riders is drawn from a log-normal distribution; $\\alpha=0.05$, as the stat is much higher than critical value, and p-value is approx. zero."
   ]
  }
 ],
 "metadata": {
  "kernelspec": {
   "display_name": "Python 2",
   "language": "python",
   "name": "python2"
  },
  "language_info": {
   "codemirror_mode": {
    "name": "ipython",
    "version": 2
   },
   "file_extension": ".py",
   "mimetype": "text/x-python",
   "name": "python",
   "nbconvert_exporter": "python",
   "pygments_lexer": "ipython2",
   "version": "2.7.11"
  }
 },
 "nbformat": 4,
 "nbformat_minor": 0
}
