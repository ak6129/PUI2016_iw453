{
 "cells": [
  {
   "cell_type": "code",
   "execution_count": 79,
   "metadata": {
    "collapsed": false
   },
   "outputs": [
    {
     "name": "stdout",
     "output_type": "stream",
     "text": [
      "Populating the interactive namespace from numpy and matplotlib\n",
      "Environment variable check ~ 'DFDATA':  /gws/open/NYCOpenData/nycopendata/data\n"
     ]
    }
   ],
   "source": [
    "# normal module imports\n",
    "import os\n",
    "import pandas as pd\n",
    "import numpy as np\n",
    "import matplotlib.pyplot as plt\n",
    "%pylab inline\n",
    "matplotlib.style.use('ggplot')\n",
    "\n",
    "print \"Environment variable check ~ 'DFDATA': \", os.environ['DFDATA']"
   ]
  },
  {
   "cell_type": "markdown",
   "metadata": {},
   "source": [
    "#### Environment variable works!"
   ]
  },
  {
   "cell_type": "markdown",
   "metadata": {},
   "source": [
    "Below, I read in some historical data about water quality testing in the New York Harbor."
   ]
  },
  {
   "cell_type": "code",
   "execution_count": 80,
   "metadata": {
    "collapsed": false
   },
   "outputs": [
    {
     "data": {
      "text/plain": [
       "1938"
      ]
     },
     "execution_count": 80,
     "metadata": {},
     "output_type": "execute_result"
    }
   ],
   "source": [
    "# read in a csv file form CUSP datahub (and use our environment variable to do so)\n",
    "# attempt to parse the data column as we import into pandas\n",
    "df = pd.read_csv(os.environ['DFDATA'] + '/5uug-f49n/1394814041/5uug-f49n', parse_dates=['Date'])\n",
    "\n",
    "# how many records are there?\n",
    "len(df)"
   ]
  },
  {
   "cell_type": "code",
   "execution_count": 81,
   "metadata": {
    "collapsed": false
   },
   "outputs": [
    {
     "data": {
      "text/plain": [
       "Site                                     object\n",
       "Date                             datetime64[ns]\n",
       "DO (mg/L) Top                            object\n",
       "DO (mg/L) Bot                            object\n",
       "Fecal Coliform (#/100 mL) Top            object\n",
       "Fecal Coliform (#/100 mL) Bot            object\n",
       "Enterococcus (#/100 mL) Top              object\n",
       "Enterococcus (#/100 mL) Bot              object\n",
       "Transparency (Secchi) ft.                object\n",
       "dtype: object"
      ]
     },
     "execution_count": 81,
     "metadata": {},
     "output_type": "execute_result"
    }
   ],
   "source": [
    "# check the column data types\n",
    "df.dtypes"
   ]
  },
  {
   "cell_type": "code",
   "execution_count": 82,
   "metadata": {
    "collapsed": false
   },
   "outputs": [
    {
     "name": "stdout",
     "output_type": "stream",
     "text": [
      "2012-01-05 00:00:00\n",
      "2013-01-10 00:00:00\n"
     ]
    }
   ],
   "source": [
    "# what is the range of dates in the dataset?\n",
    "print df.Date.min()\n",
    "print df.Date.max()"
   ]
  },
  {
   "cell_type": "code",
   "execution_count": 83,
   "metadata": {
    "collapsed": false
   },
   "outputs": [
    {
     "data": {
      "text/html": [
       "<div>\n",
       "<table border=\"1\" class=\"dataframe\">\n",
       "  <thead>\n",
       "    <tr style=\"text-align: right;\">\n",
       "      <th></th>\n",
       "      <th>Site</th>\n",
       "      <th>Date</th>\n",
       "      <th>DO (mg/L) Top</th>\n",
       "      <th>DO (mg/L) Bot</th>\n",
       "      <th>Fecal Coliform (#/100 mL) Top</th>\n",
       "      <th>Fecal Coliform (#/100 mL) Bot</th>\n",
       "      <th>Enterococcus (#/100 mL) Top</th>\n",
       "      <th>Enterococcus (#/100 mL) Bot</th>\n",
       "      <th>Transparency (Secchi) ft.</th>\n",
       "    </tr>\n",
       "  </thead>\n",
       "  <tbody>\n",
       "    <tr>\n",
       "      <th>0</th>\n",
       "      <td>CIC2</td>\n",
       "      <td>2013-01-10</td>\n",
       "      <td>6.31</td>\n",
       "      <td>6.44</td>\n",
       "      <td>34000</td>\n",
       "      <td>NS</td>\n",
       "      <td>1500</td>\n",
       "      <td>NS</td>\n",
       "      <td>NS</td>\n",
       "    </tr>\n",
       "    <tr>\n",
       "      <th>1</th>\n",
       "      <td>GC3</td>\n",
       "      <td>2013-01-10</td>\n",
       "      <td>6.12</td>\n",
       "      <td>7.07</td>\n",
       "      <td>116</td>\n",
       "      <td>96</td>\n",
       "      <td>180</td>\n",
       "      <td>236</td>\n",
       "      <td>NS</td>\n",
       "    </tr>\n",
       "    <tr>\n",
       "      <th>2</th>\n",
       "      <td>GC4</td>\n",
       "      <td>2013-01-10</td>\n",
       "      <td>6.80</td>\n",
       "      <td>7.76</td>\n",
       "      <td>104</td>\n",
       "      <td>84</td>\n",
       "      <td>234</td>\n",
       "      <td>112</td>\n",
       "      <td>NS</td>\n",
       "    </tr>\n",
       "    <tr>\n",
       "      <th>3</th>\n",
       "      <td>GC5</td>\n",
       "      <td>2013-01-10</td>\n",
       "      <td>7.26</td>\n",
       "      <td>8.06</td>\n",
       "      <td>92</td>\n",
       "      <td>88</td>\n",
       "      <td>104</td>\n",
       "      <td>52</td>\n",
       "      <td>NS</td>\n",
       "    </tr>\n",
       "    <tr>\n",
       "      <th>4</th>\n",
       "      <td>GC6</td>\n",
       "      <td>2013-01-10</td>\n",
       "      <td>7.59</td>\n",
       "      <td>9.36</td>\n",
       "      <td>65</td>\n",
       "      <td>31</td>\n",
       "      <td>12</td>\n",
       "      <td>24</td>\n",
       "      <td>NS</td>\n",
       "    </tr>\n",
       "  </tbody>\n",
       "</table>\n",
       "</div>"
      ],
      "text/plain": [
       "   Site       Date DO (mg/L) Top DO (mg/L) Bot Fecal Coliform (#/100 mL) Top  \\\n",
       "0  CIC2 2013-01-10          6.31          6.44                         34000   \n",
       "1   GC3 2013-01-10          6.12          7.07                           116   \n",
       "2   GC4 2013-01-10          6.80          7.76                           104   \n",
       "3   GC5 2013-01-10          7.26          8.06                            92   \n",
       "4   GC6 2013-01-10          7.59          9.36                            65   \n",
       "\n",
       "  Fecal Coliform (#/100 mL) Bot Enterococcus (#/100 mL) Top  \\\n",
       "0                            NS                        1500   \n",
       "1                            96                         180   \n",
       "2                            84                         234   \n",
       "3                            88                         104   \n",
       "4                            31                          12   \n",
       "\n",
       "  Enterococcus (#/100 mL) Bot Transparency (Secchi) ft.  \n",
       "0                          NS                        NS  \n",
       "1                         236                        NS  \n",
       "2                         112                        NS  \n",
       "3                          52                        NS  \n",
       "4                          24                        NS  "
      ]
     },
     "execution_count": 83,
     "metadata": {},
     "output_type": "execute_result"
    }
   ],
   "source": [
    "# render a table of the first few rows of data\n",
    "df.head()"
   ]
  },
  {
   "cell_type": "markdown",
   "metadata": {},
   "source": [
    "There seem to be some NaN values (recorded as 'NS' in this dataset) - can we get a sense of how many there are in a column compared to other values?"
   ]
  },
  {
   "cell_type": "code",
   "execution_count": 84,
   "metadata": {
    "collapsed": false
   },
   "outputs": [
    {
     "data": {
      "text/plain": [
       "Fecal Coliform (#/100 mL) Top\n",
       "1         36\n",
       "10        22\n",
       "100        6\n",
       "1000       5\n",
       "102        4\n",
       "102000     1\n",
       "103        1\n",
       "104       11\n",
       "10400      1\n",
       "105        2\n",
       "1050       1\n",
       "106        1\n",
       "108        9\n",
       "109        3\n",
       "1090       1\n",
       "11        19\n",
       "110        1\n",
       "1100       4\n",
       "112        4\n",
       "113        1\n",
       "114        1\n",
       "1140       1\n",
       "115        3\n",
       "116        8\n",
       "1160       3\n",
       "118        4\n",
       "1190       1\n",
       "12        14\n",
       "120        5\n",
       "1200       3\n",
       "          ..\n",
       "870        1\n",
       "8700       1\n",
       "88         7\n",
       "880        1\n",
       "89         1\n",
       "8900       2\n",
       "9         28\n",
       "90         3\n",
       "900        2\n",
       "92        10\n",
       "93         1\n",
       "930        1\n",
       "9300       3\n",
       "93000      1\n",
       "94         5\n",
       "940        1\n",
       "95         1\n",
       "950        2\n",
       "96        10\n",
       "960        2\n",
       "97         3\n",
       "970        1\n",
       "98         3\n",
       "980        2\n",
       "9800       2\n",
       "98000      3\n",
       "99         3\n",
       "990        1\n",
       "9900       1\n",
       "NS        78\n",
       "Name: Fecal Coliform (#/100 mL) Top, dtype: int64"
      ]
     },
     "execution_count": 84,
     "metadata": {},
     "output_type": "execute_result"
    }
   ],
   "source": [
    "#df['Transparency (Secchi) ft.'].groupby(df['Transparency (Secchi) ft.']).count()\n",
    "df['Fecal Coliform (#/100 mL) Top'].groupby(df['Fecal Coliform (#/100 mL) Top']).count()"
   ]
  },
  {
   "cell_type": "code",
   "execution_count": 86,
   "metadata": {
    "collapsed": false
   },
   "outputs": [],
   "source": [
    "# drop all columns except for two numerical columns and out datetime column\n",
    "df.drop(['Site', 'DO (mg/L) Top', 'DO (mg/L) Bot',\n",
    "         'Fecal Coliform (#/100 mL) Bot', 'Enterococcus (#/100 mL) Top',\n",
    "        'Enterococcus (#/100 mL) Bot'], axis=1, inplace=True)"
   ]
  },
  {
   "cell_type": "code",
   "execution_count": 87,
   "metadata": {
    "collapsed": true
   },
   "outputs": [],
   "source": [
    "# now replace those 'NS' values with the preffered numpy/pandas NaN\n",
    "df.replace('NS', np.nan, inplace=True)"
   ]
  },
  {
   "cell_type": "code",
   "execution_count": 88,
   "metadata": {
    "collapsed": false
   },
   "outputs": [
    {
     "data": {
      "text/html": [
       "<div>\n",
       "<table border=\"1\" class=\"dataframe\">\n",
       "  <thead>\n",
       "    <tr style=\"text-align: right;\">\n",
       "      <th></th>\n",
       "      <th>Date</th>\n",
       "      <th>Fecal Coliform (#/100 mL) Top</th>\n",
       "      <th>Transparency (Secchi) ft.</th>\n",
       "    </tr>\n",
       "  </thead>\n",
       "  <tbody>\n",
       "    <tr>\n",
       "      <th>0</th>\n",
       "      <td>2013-01-10</td>\n",
       "      <td>34000</td>\n",
       "      <td>NaN</td>\n",
       "    </tr>\n",
       "    <tr>\n",
       "      <th>1</th>\n",
       "      <td>2013-01-10</td>\n",
       "      <td>116</td>\n",
       "      <td>NaN</td>\n",
       "    </tr>\n",
       "    <tr>\n",
       "      <th>2</th>\n",
       "      <td>2013-01-10</td>\n",
       "      <td>104</td>\n",
       "      <td>NaN</td>\n",
       "    </tr>\n",
       "    <tr>\n",
       "      <th>3</th>\n",
       "      <td>2013-01-10</td>\n",
       "      <td>92</td>\n",
       "      <td>NaN</td>\n",
       "    </tr>\n",
       "    <tr>\n",
       "      <th>4</th>\n",
       "      <td>2013-01-10</td>\n",
       "      <td>65</td>\n",
       "      <td>NaN</td>\n",
       "    </tr>\n",
       "  </tbody>\n",
       "</table>\n",
       "</div>"
      ],
      "text/plain": [
       "        Date Fecal Coliform (#/100 mL) Top Transparency (Secchi) ft.\n",
       "0 2013-01-10                         34000                       NaN\n",
       "1 2013-01-10                           116                       NaN\n",
       "2 2013-01-10                           104                       NaN\n",
       "3 2013-01-10                            92                       NaN\n",
       "4 2013-01-10                            65                       NaN"
      ]
     },
     "execution_count": 88,
     "metadata": {},
     "output_type": "execute_result"
    }
   ],
   "source": [
    "# show first few rows of the trimmed dataset\n",
    "df.head()"
   ]
  },
  {
   "cell_type": "code",
   "execution_count": 89,
   "metadata": {
    "collapsed": false
   },
   "outputs": [
    {
     "data": {
      "image/png": "[encoded data removed]",
      "text/plain": [
       "<matplotlib.figure.Figure at 0x7f341e328050>"
      ]
     },
     "metadata": {},
     "output_type": "display_data"
    }
   ],
   "source": [
    "fig1 = plt.figure()\n",
    "ax1 = fig1.add_subplot(111)\n",
    "ax1.plot(df['Fecal Coliform (#/100 mL) Top'], df['Transparency (Secchi) ft.'], '.')\n",
    "ax1.set_ylabel('Transparency ft.')\n",
    "ax1.set_xlabel('Fecal Coliform (#/100 mL)')\n",
    "ax1.set_title('Transparency vs Fecal Matter in New York Harbor')\n",
    "plt.show()"
   ]
  },
  {
   "cell_type": "markdown",
   "metadata": {},
   "source": [
    "##### FIGURE 1: Transparency vs Fecal Matter in New York Harbor"
   ]
  },
  {
   "cell_type": "markdown",
   "metadata": {},
   "source": [
    "## Extra Credit Section\n",
    "I've already brought a datetime column into the dataframe and parsed it. Now recreate the scatter plot, replacing a numerical value for a date on the x-axis.\n",
    "\n",
    "Also, note that we rotate the x-axis labels to ensure readability."
   ]
  },
  {
   "cell_type": "code",
   "execution_count": 92,
   "metadata": {
    "collapsed": false
   },
   "outputs": [
    {
     "data": {
      "image/png": "[encoded data removed]",
      "text/plain": [
       "<matplotlib.figure.Figure at 0x7f341e930b90>"
      ]
     },
     "metadata": {},
     "output_type": "display_data"
    }
   ],
   "source": [
    "fig2 = plt.figure()\n",
    "ax2 = fig2.add_subplot(111)\n",
    "ax2.plot(df['Date'], df['Transparency (Secchi) ft.'], '.')\n",
    "ax2.set_xlabel('Date')\n",
    "ax2.set_ylabel('Transparency ft.')\n",
    "ax2.set_title('Water Transparency over Time in New York Harbor')\n",
    "plt.setp(ax2.get_xticklabels(), rotation=45)\n",
    "plt.show()"
   ]
  },
  {
   "cell_type": "markdown",
   "metadata": {},
   "source": [
    "##### FIGURE 2: Water Transparency over Time in New York Harbor"
   ]
  },
  {
   "cell_type": "code",
   "execution_count": null,
   "metadata": {
    "collapsed": true
   },
   "outputs": [],
   "source": []
  }
 ],
 "metadata": {
  "kernelspec": {
   "display_name": "PUI2016_Python2",
   "language": "python",
   "name": "pui2016_python2"
  },
  "language_info": {
   "codemirror_mode": {
    "name": "ipython",
    "version": 2
   },
   "file_extension": ".py",
   "mimetype": "text/x-python",
   "name": "python",
   "nbconvert_exporter": "python",
   "pygments_lexer": "ipython2",
   "version": "2.7.12"
  }
 },
 "nbformat": 4,
 "nbformat_minor": 0
}
