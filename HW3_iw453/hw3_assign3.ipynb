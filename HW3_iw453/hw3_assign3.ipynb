{
 "cells": [
  {
   "cell_type": "markdown",
   "metadata": {},
   "source": [
    "## PUI 2016 HOMEWORK 3, ASSIGNMENT 3\n",
    "#### Ian Wright, iw453\n",
    "#### September 2016"
   ]
  },
  {
   "cell_type": "code",
   "execution_count": 16,
   "metadata": {
    "collapsed": false
   },
   "outputs": [
    {
     "data": {
      "text/html": [
       "<div>\n",
       "<table border=\"1\" class=\"dataframe\">\n",
       "  <thead>\n",
       "    <tr style=\"text-align: right;\">\n",
       "      <th></th>\n",
       "      <th>time</th>\n",
       "    </tr>\n",
       "  </thead>\n",
       "  <tbody>\n",
       "    <tr>\n",
       "      <th>0</th>\n",
       "      <td>31.622239</td>\n",
       "    </tr>\n",
       "    <tr>\n",
       "      <th>1</th>\n",
       "      <td>32.821376</td>\n",
       "    </tr>\n",
       "    <tr>\n",
       "      <th>2</th>\n",
       "      <td>30.229101</td>\n",
       "    </tr>\n",
       "    <tr>\n",
       "      <th>3</th>\n",
       "      <td>31.413766</td>\n",
       "    </tr>\n",
       "    <tr>\n",
       "      <th>4</th>\n",
       "      <td>39.010550</td>\n",
       "    </tr>\n",
       "  </tbody>\n",
       "</table>\n",
       "</div>"
      ],
      "text/plain": [
       "        time\n",
       "0  31.622239\n",
       "1  32.821376\n",
       "2  30.229101\n",
       "3  31.413766\n",
       "4  39.010550"
      ]
     },
     "execution_count": 16,
     "metadata": {},
     "output_type": "execute_result"
    }
   ],
   "source": [
    "# first we do required imports\n",
    "import pandas as pd\n",
    "import numpy as np\n",
    "\n",
    "# read in raw data directly from github\n",
    "new_commutes = pd.read_csv('https://raw.githubusercontent.com/fedhere/PUI2016_fb55/master/Lab3_fb55/times.txt', header=None)\n",
    "new_commutes.columns = ['time']\n",
    "new_commutes.head()"
   ]
  },
  {
   "cell_type": "markdown",
   "metadata": {},
   "source": [
    "The MTA is testing a new bus route and wants to know if the new route is generating faster commute times or not.\n",
    "\n",
    "The null hypothesis, $H_0$, is: The commute time for the new route is *at least as long* as the commute time for the old route.\n",
    "\n",
    "$H_0: u_s >= u_p$\n",
    "\n",
    "It follows that the alternative hypothesis, $H_a$,is: The commute time for the new route is shorter than that of the old route.\n",
    "\n",
    "$H_a: u_s < u_p$\n",
    "\n",
    "##### We will test $H_0$ at a 95% (2-sigma) confidence level (5% significance threshold)\n",
    "\n",
    "We already know that the mean commute time for the old route was $36$, and the standard deviation was $6$.\n",
    "\n",
    "$u_p = 36$,\n",
    "$std_p = 6$\n",
    "\n",
    "First, let's compute the mean and standard deviation for our sample of commute times on the new bus route:"
   ]
  },
  {
   "cell_type": "code",
   "execution_count": 23,
   "metadata": {
    "collapsed": false
   },
   "outputs": [
    {
     "name": "stdout",
     "output_type": "stream",
     "text": [
      "Sample mean:  34.4661616883\n",
      "Sample standard deviation:  7.13728013375\n"
     ]
    }
   ],
   "source": [
    "u_s = new_commutes.time.mean()\n",
    "std_s = new_commutes.time.std()\n",
    "\n",
    "print 'Sample mean: ', u_s\n",
    "print 'Sample standard deviation: ', std_s"
   ]
  },
  {
   "cell_type": "markdown",
   "metadata": {},
   "source": [
    "It's clear that our sample mean time is less than that of the old bus route - this is a good thing. But is this difference statistically significant to conclude that the new bus route is better?\n",
    "\n",
    "We can use a Z-test to determine the significance of the result.\n",
    "\n",
    "$Z = [u_p - u_s] / [std / sqrt(N)]$"
   ]
  },
  {
   "cell_type": "code",
   "execution_count": 21,
   "metadata": {
    "collapsed": false
   },
   "outputs": [
    {
     "name": "stdout",
     "output_type": "stream",
     "text": [
      "Z-value is:  2.55639718617\n"
     ]
    }
   ],
   "source": [
    "u_p = 36\n",
    "std_p = 6\n",
    "\n",
    "Z = (u_p - u_s)/(std_p/np.sqrt(len(new_commutes)))\n",
    "print 'Z-value is: ', Z"
   ]
  },
  {
   "cell_type": "markdown",
   "metadata": {},
   "source": [
    "This result tells us that the observed measurement is 2.55 standard deviations away from the old mean.\n",
    "\n",
    "Because 2.55 > 2, we can say that: given that the null hypothesis is TRUE, there is a less-than-5% chance that the observed measurement was as extreme as it was *just by chance.*\n",
    "\n",
    "##### In simpler terms, this Z-test tells us that the result we saw was NOT due to chance, and therefore we must REJECT THE NULL HYPOTHESIS."
   ]
  }
 ],
 "metadata": {
  "kernelspec": {
   "display_name": "Python 2",
   "language": "python",
   "name": "python2"
  },
  "language_info": {
   "codemirror_mode": {
    "name": "ipython",
    "version": 2
   },
   "file_extension": ".py",
   "mimetype": "text/x-python",
   "name": "python",
   "nbconvert_exporter": "python",
   "pygments_lexer": "ipython2",
   "version": "2.7.11"
  }
 },
 "nbformat": 4,
 "nbformat_minor": 0
}
