{
 "cells": [
  {
   "cell_type": "code",
   "execution_count": 2,
   "metadata": {
    "collapsed": true
   },
   "outputs": [],
   "source": [
    "# required imports and initial settings\n",
    "from scipy.optimize import curve_fit, minimize\n",
    "import pandas as pd\n",
    "import numpy as np\n",
    "import matplotlib.pylab as plt\n",
    "plt.style.use('ggplot')\n",
    "%matplotlib inline"
   ]
  },
  {
   "cell_type": "markdown",
   "metadata": {},
   "source": [
    " list of 5 distributions to analyze: 'normal', 'poisson', 'binomial', 'chi', 'triangular'"
   ]
  },
  {
   "cell_type": "code",
   "execution_count": 28,
   "metadata": {
    "collapsed": false
   },
   "outputs": [],
   "source": [
    "# set a global population mean & sd that will be the same across all distributions and samples\n",
    "pop_mean = 500\n",
    "pop_sd = 100\n",
    "\n",
    "# dictionary to hold the various distributions and samples\n",
    "# each dictionary value will be a list that contains 100 dictionaries\n",
    "# ...each with a sample size, mean, and standard deviation\n",
    "distro = {'normal':[], 'poisson':[], 'binomial':[], 'chi':[], 'triangular':[]}\n",
    "\n",
    "# create an array of 100 different sample sizes between 10 and 2000 to use for ecah distribution\n",
    "sample_sizes = np.linspace(10, 2000, 100).astype(int)"
   ]
  },
  {
   "cell_type": "markdown",
   "metadata": {},
   "source": [
    "because each distribution has unique paramters, we need special syntax for each of the five distributions"
   ]
  },
  {
   "cell_type": "code",
   "execution_count": 29,
   "metadata": {
    "collapsed": true
   },
   "outputs": [],
   "source": [
    "# NORMAL\n",
    "for n in sample_sizes:\n",
    "    # loc = center  ~ mean\n",
    "    # scale = standard deviation\n",
    "    sample = np.random.normal(loc=pop_mean, scale=pop_sd, size=n)\n",
    "    sample_dict = {'size':n, 'mean':sample.mean(), 'sd':sample.std()}\n",
    "    distro['normal'].append(sample_dict)"
   ]
  },
  {
   "cell_type": "code",
   "execution_count": 31,
   "metadata": {
    "collapsed": true
   },
   "outputs": [],
   "source": [
    "# POISSON\n",
    "for n in sample_sizes:\n",
    "    # lam = lamda ~ expectation for interval ~ mean\n",
    "    sample = np.random.poisson(lam=pop_mean, size=n)\n",
    "    sample_dict = {'size':n, 'mean':sample.mean(), 'sd':sample.std()}\n",
    "    distro['poisson'].append(sample_dict)"
   ]
  },
  {
   "cell_type": "code",
   "execution_count": 37,
   "metadata": {
    "collapsed": false
   },
   "outputs": [],
   "source": [
    "# BINOMIAL\n",
    "for n in sample_sizes:\n",
    "    # n = number of events\n",
    "    # p = probability of success --> @ 0.5 success, we expect 1000 events to have 500 successes (mean)\n",
    "    sample = np.random.binomial(n=pop_mean*2, p=0.5, size=n)\n",
    "    sample_dict = {'size':n, 'mean':sample.mean(), 'sd':sample.std()}\n",
    "    distro['binomial'].append(sample_dict)"
   ]
  },
  {
   "cell_type": "code",
   "execution_count": 38,
   "metadata": {
    "collapsed": true
   },
   "outputs": [],
   "source": [
    "# CHI SQUARED\n",
    "for n in sample_sizes:\n",
    "    # df = degrees of freedom ~ mean for this test\n",
    "    sample = np.random.chisquare(df=pop_mean, size=n)\n",
    "    sample_dict = {'size':n, 'mean':sample.mean(), 'sd':sample.std()}\n",
    "    distro['chi'].append(sample_dict)"
   ]
  },
  {
   "cell_type": "code",
   "execution_count": 41,
   "metadata": {
    "collapsed": true
   },
   "outputs": [],
   "source": [
    "# TRIANGULAR\n",
    "for n in sample_sizes:\n",
    "    # left = left edge of triangle\n",
    "    # mode = peak of distribution ~ mean\n",
    "    # right = right edge of triangle\n",
    "    sample = np.random.triangular(left=0, mode=pop_mean, right = 1000, size=n)\n",
    "    sample_dict = {'size':n, 'mean':sample.mean(), 'sd':sample.std()}\n",
    "    distro['triangular'].append(sample_dict)"
   ]
  },
  {
   "cell_type": "code",
   "execution_count": 27,
   "metadata": {
    "collapsed": false
   },
   "outputs": [
    {
     "name": "stdout",
     "output_type": "stream",
     "text": [
      "[ 663.93610487  597.55731231  481.82945437  552.67251787  659.56254013\n",
      "  496.15370488  408.18488312  396.10477024  446.76834485  421.95615359\n",
      "  430.38669299  411.92137695  517.22143659  413.09752151  579.30534241\n",
      "  402.68681993  417.82770947  363.04301201  479.99389801  596.74574547\n",
      "  441.4869502   637.66315554  427.93430077  513.99717112  495.13090676\n",
      "  646.13205879  549.88456422  475.55817316  589.71383662  446.53853601\n",
      "  563.41949649  640.15108522  550.44184385  323.73995702  470.89565618\n",
      "  462.38422783  569.86240113  404.2026564   461.32589171  521.95635899\n",
      "  614.03123255  625.84299735  547.01192726  531.18335128  579.25942574\n",
      "  516.37965549  451.87021654  578.95925783  438.9100122   726.38169847]\n",
      "510.784086885\n",
      "89.3980285637\n"
     ]
    }
   ],
   "source": [
    "n=50\n",
    "sample = np.random.normal(loc=pop_mean, scale=pop_sd, size=n)\n",
    "print sample\n",
    "print sample.mean()\n",
    "print sample.std()"
   ]
  },
  {
   "cell_type": "code",
   "execution_count": 40,
   "metadata": {
    "collapsed": false
   },
   "outputs": [
    {
     "data": {
      "text/plain": [
       "[{'mean': 488.86296125344387, 'sd': 25.608384714176179, 'size': 10},\n",
       " {'mean': 499.54839960021786, 'sd': 29.933933964573598, 'size': 30},\n",
       " {'mean': 498.68165329736524, 'sd': 29.721718897503351, 'size': 50},\n",
       " {'mean': 493.83349152721559, 'sd': 31.281288165415717, 'size': 70},\n",
       " {'mean': 498.32163363880085, 'sd': 32.433635406819491, 'size': 90},\n",
       " {'mean': 502.5017547582159, 'sd': 31.204368489968225, 'size': 110},\n",
       " {'mean': 495.41345708361041, 'sd': 31.508032915838051, 'size': 130},\n",
       " {'mean': 499.32302806752887, 'sd': 32.599624668185356, 'size': 150},\n",
       " {'mean': 501.35955956681556, 'sd': 30.165976413095265, 'size': 170},\n",
       " {'mean': 498.82930642684897, 'sd': 31.99857333333102, 'size': 190},\n",
       " {'mean': 503.64662325024727, 'sd': 32.044154055379472, 'size': 211},\n",
       " {'mean': 498.06301615818035, 'sd': 30.46420554403019, 'size': 231},\n",
       " {'mean': 503.10880162581242, 'sd': 31.267464221543399, 'size': 251},\n",
       " {'mean': 499.17789515682216, 'sd': 29.972456576419987, 'size': 271},\n",
       " {'mean': 498.21751172742501, 'sd': 31.560591818346794, 'size': 291},\n",
       " {'mean': 497.0046302640248, 'sd': 32.80149265106612, 'size': 311},\n",
       " {'mean': 496.28746727084769, 'sd': 32.152268800237756, 'size': 331},\n",
       " {'mean': 498.71205526235065, 'sd': 29.792711146162851, 'size': 351},\n",
       " {'mean': 499.88545507573144, 'sd': 32.22244132648062, 'size': 371},\n",
       " {'mean': 499.95258007742456, 'sd': 32.557464101775075, 'size': 391},\n",
       " {'mean': 498.22070552960088, 'sd': 30.921847239399181, 'size': 412},\n",
       " {'mean': 498.55220744214495, 'sd': 31.579037233545954, 'size': 432},\n",
       " {'mean': 500.02795745817508, 'sd': 30.799387084674503, 'size': 452},\n",
       " {'mean': 497.62248973284483, 'sd': 32.942513841992792, 'size': 472},\n",
       " {'mean': 502.01160953971623, 'sd': 31.50565948857518, 'size': 492},\n",
       " {'mean': 499.65448627049136, 'sd': 31.442898671048518, 'size': 512},\n",
       " {'mean': 501.84144632977882, 'sd': 29.7035574222833, 'size': 532},\n",
       " {'mean': 500.90793641656785, 'sd': 30.697600795188759, 'size': 552},\n",
       " {'mean': 502.89127421459733, 'sd': 30.976251255530059, 'size': 572},\n",
       " {'mean': 498.72139484353954, 'sd': 30.121337273096675, 'size': 592},\n",
       " {'mean': 498.96494960685419, 'sd': 30.981912439047374, 'size': 613},\n",
       " {'mean': 499.08214155464077, 'sd': 31.177748709978765, 'size': 633},\n",
       " {'mean': 501.72345582948219, 'sd': 30.48135555115514, 'size': 653},\n",
       " {'mean': 499.72155077344246, 'sd': 30.976486585686295, 'size': 673},\n",
       " {'mean': 498.32315087990168, 'sd': 32.453903997775733, 'size': 693},\n",
       " {'mean': 499.6964575168434, 'sd': 32.662248308840979, 'size': 713},\n",
       " {'mean': 500.00727208383648, 'sd': 32.177047157207213, 'size': 733},\n",
       " {'mean': 498.13378876601593, 'sd': 30.561716020806283, 'size': 753},\n",
       " {'mean': 500.44564744410553, 'sd': 30.781794866934696, 'size': 773},\n",
       " {'mean': 498.32253062524944, 'sd': 31.919738780555431, 'size': 793},\n",
       " {'mean': 500.59868104320867, 'sd': 31.377075386358737, 'size': 814},\n",
       " {'mean': 501.14002928207532, 'sd': 31.64124361736425, 'size': 834},\n",
       " {'mean': 499.22206722362409, 'sd': 32.454968468011856, 'size': 854},\n",
       " {'mean': 501.04071965197249, 'sd': 32.037620349483269, 'size': 874},\n",
       " {'mean': 499.77434673240407, 'sd': 30.372366356151264, 'size': 894},\n",
       " {'mean': 497.87004641689362, 'sd': 32.217740120992367, 'size': 914},\n",
       " {'mean': 499.546017710939, 'sd': 30.925736661836972, 'size': 934},\n",
       " {'mean': 499.99389530776926, 'sd': 31.396518786255172, 'size': 954},\n",
       " {'mean': 499.72939988436872, 'sd': 31.436352240882478, 'size': 974},\n",
       " {'mean': 500.99257347324681, 'sd': 32.652067726711479, 'size': 994},\n",
       " {'mean': 498.42062430981929, 'sd': 31.461518110191573, 'size': 1015},\n",
       " {'mean': 499.20111034095572, 'sd': 32.500347844205599, 'size': 1035},\n",
       " {'mean': 501.71986030976365, 'sd': 32.130098814877201, 'size': 1055},\n",
       " {'mean': 500.67160538520403, 'sd': 32.077855176136588, 'size': 1075},\n",
       " {'mean': 501.6946113126391, 'sd': 31.303107551793424, 'size': 1095},\n",
       " {'mean': 500.00331383854393, 'sd': 32.713988967055613, 'size': 1115},\n",
       " {'mean': 498.49216463850371, 'sd': 31.290804862744661, 'size': 1135},\n",
       " {'mean': 501.21112209123163, 'sd': 30.671564918291235, 'size': 1155},\n",
       " {'mean': 499.24325551316895, 'sd': 31.317468037633901, 'size': 1175},\n",
       " {'mean': 498.78020188687503, 'sd': 30.950013908468442, 'size': 1195},\n",
       " {'mean': 500.13440178206457, 'sd': 31.437156075335995, 'size': 1216},\n",
       " {'mean': 499.98956254419693, 'sd': 31.543689332791857, 'size': 1236},\n",
       " {'mean': 501.02653838998248, 'sd': 32.744307351653717, 'size': 1256},\n",
       " {'mean': 500.1423338579695, 'sd': 31.236269796627461, 'size': 1276},\n",
       " {'mean': 500.83689245389667, 'sd': 31.660696587404065, 'size': 1296},\n",
       " {'mean': 499.2055125915947, 'sd': 31.686869256975633, 'size': 1316},\n",
       " {'mean': 498.8403277491841, 'sd': 32.00848366686639, 'size': 1336},\n",
       " {'mean': 501.49664213670184, 'sd': 32.262887249399618, 'size': 1356},\n",
       " {'mean': 498.90363722997688, 'sd': 31.76352124388373, 'size': 1376},\n",
       " {'mean': 501.16369286687484, 'sd': 31.068486852204273, 'size': 1396},\n",
       " {'mean': 500.63877134906716, 'sd': 32.270359182087091, 'size': 1417},\n",
       " {'mean': 499.91978223493811, 'sd': 32.109054099348306, 'size': 1437},\n",
       " {'mean': 498.62773774740157, 'sd': 31.517258868172242, 'size': 1457},\n",
       " {'mean': 501.67376591605068, 'sd': 31.28844255575153, 'size': 1477},\n",
       " {'mean': 499.27222268573684, 'sd': 31.825328774012515, 'size': 1497},\n",
       " {'mean': 500.97416592901681, 'sd': 32.584520172753237, 'size': 1517},\n",
       " {'mean': 500.39770153886224, 'sd': 32.071706385968866, 'size': 1537},\n",
       " {'mean': 500.29598663377652, 'sd': 31.690280284751449, 'size': 1557},\n",
       " {'mean': 501.73618929842178, 'sd': 32.359047403477859, 'size': 1577},\n",
       " {'mean': 499.22728997508392, 'sd': 31.891191848887079, 'size': 1597},\n",
       " {'mean': 500.4481268647595, 'sd': 31.91452461603394, 'size': 1618},\n",
       " {'mean': 501.03489488960639, 'sd': 32.563025666485295, 'size': 1638},\n",
       " {'mean': 500.18540222441715, 'sd': 31.682549986843696, 'size': 1658},\n",
       " {'mean': 499.40553092469025, 'sd': 32.031662438429393, 'size': 1678},\n",
       " {'mean': 499.8744865154581, 'sd': 31.598085182373712, 'size': 1698},\n",
       " {'mean': 501.22962250532049, 'sd': 31.64468595317517, 'size': 1718},\n",
       " {'mean': 500.64915340890485, 'sd': 31.98102339078449, 'size': 1738},\n",
       " {'mean': 498.15962574394558, 'sd': 31.660659954392386, 'size': 1758},\n",
       " {'mean': 500.17666849086919, 'sd': 32.437908099675802, 'size': 1778},\n",
       " {'mean': 500.26860475654536, 'sd': 31.700773902678353, 'size': 1798},\n",
       " {'mean': 499.8572489074665, 'sd': 31.679929596869641, 'size': 1819},\n",
       " {'mean': 499.93998389836685, 'sd': 31.323904700576584, 'size': 1839},\n",
       " {'mean': 499.88610208446534, 'sd': 32.142653374737684, 'size': 1859},\n",
       " {'mean': 500.73920464384418, 'sd': 31.903419782977977, 'size': 1879},\n",
       " {'mean': 500.43081536384278, 'sd': 32.943742066776878, 'size': 1899},\n",
       " {'mean': 499.76074789413417, 'sd': 31.049811877692353, 'size': 1919},\n",
       " {'mean': 500.56167386887455, 'sd': 31.59416459600574, 'size': 1939},\n",
       " {'mean': 500.07402733027101, 'sd': 30.555384260846353, 'size': 1959},\n",
       " {'mean': 500.75165488688037, 'sd': 30.930088744119729, 'size': 1979},\n",
       " {'mean': 498.93742254759582, 'sd': 31.31003083619218, 'size': 2000}]"
      ]
     },
     "execution_count": 40,
     "metadata": {},
     "output_type": "execute_result"
    }
   ],
   "source": [
    "distro['chi']\n",
    "#s = np.random.binomial(10, 0.5, 1000)\n",
    "#print s"
   ]
  },
  {
   "cell_type": "code",
   "execution_count": 17,
   "metadata": {
    "collapsed": false
   },
   "outputs": [],
   "source": [
    "dict = {'a':[1,2], 'b':[3,4]}"
   ]
  },
  {
   "cell_type": "code",
   "execution_count": 13,
   "metadata": {
    "collapsed": false
   },
   "outputs": [
    {
     "data": {
      "text/plain": [
       "list"
      ]
     },
     "execution_count": 13,
     "metadata": {},
     "output_type": "execute_result"
    }
   ],
   "source": [
    "type(dict['a'])"
   ]
  },
  {
   "cell_type": "code",
   "execution_count": 15,
   "metadata": {
    "collapsed": false
   },
   "outputs": [],
   "source": [
    "dict['a'] = dict['a'].append(3)"
   ]
  },
  {
   "cell_type": "code",
   "execution_count": 18,
   "metadata": {
    "collapsed": false
   },
   "outputs": [],
   "source": [
    "dict['a'].append(3)"
   ]
  },
  {
   "cell_type": "code",
   "execution_count": 19,
   "metadata": {
    "collapsed": false
   },
   "outputs": [
    {
     "data": {
      "text/plain": [
       "{'a': [1, 2, 3], 'b': [3, 4]}"
      ]
     },
     "execution_count": 19,
     "metadata": {},
     "output_type": "execute_result"
    }
   ],
   "source": [
    "dict"
   ]
  },
  {
   "cell_type": "code",
   "execution_count": null,
   "metadata": {
    "collapsed": true
   },
   "outputs": [],
   "source": []
  }
 ],
 "metadata": {
  "kernelspec": {
   "display_name": "Python 2",
   "language": "python",
   "name": "python2"
  },
  "language_info": {
   "codemirror_mode": {
    "name": "ipython",
    "version": 2
   },
   "file_extension": ".py",
   "mimetype": "text/x-python",
   "name": "python",
   "nbconvert_exporter": "python",
   "pygments_lexer": "ipython2",
   "version": "2.7.11"
  }
 },
 "nbformat": 4,
 "nbformat_minor": 0
}
