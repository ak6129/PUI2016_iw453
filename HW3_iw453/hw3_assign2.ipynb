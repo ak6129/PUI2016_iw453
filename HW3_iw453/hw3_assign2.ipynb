{
 "cells": [
  {
   "cell_type": "markdown",
   "metadata": {},
   "source": [
    "## PUI 2016 HOMEWORK 3, ASSIGNMENT 2\n",
    "#### Ian Wright, iw453\n",
    "#### September 2016"
   ]
  },
  {
   "cell_type": "code",
   "execution_count": 13,
   "metadata": {
    "collapsed": true
   },
   "outputs": [],
   "source": [
    "import urllib, json\n",
    "import pandas as pd\n",
    "import numpy as np"
   ]
  },
  {
   "cell_type": "markdown",
   "metadata": {},
   "source": [
    "#### IDEA:\n",
    "\n",
    "There is demand for expanded citibike service in Upper Manhattan / Harlem / Columbia University.\n",
    "\n",
    "#### HYPOTHESIS:\n",
    "\n",
    "$H_0:$ The average daily rides (normalized per bike) that *start* along the north edge of the Citibike service zone in Manhattan (all Citibike stations on, or above, 106 St.) is *less than or equal to* that of Citibike stations in a similar, but non-boundary, region of Manhattan (between 91 St and 106 St). Timeframe set as a most recent complete 4 weeks.\n",
    "\n",
    "##### H_0: avg(rides /bike /day)_(north of 106st, manhattan) <= avg(rides /bike /day)_(south of 106st, manhattan)\n",
    "\n",
    "$H_1:$ The average daily rides (normalized per bike) that *start* along the north edge of the Citibike service zone in Manhattan (all Citibike stations on, or above, 106 St.) is *greater than* that of Citibike stations in a similar, but non-boundary, region of Manhattan (between 91 St and 106 St). Timeframe set as a most recent complete 4 weeks.\n",
    "\n",
    "##### H_1: avg(rides /bike /day)_(north of 106st, manhattan) > avg(rides /bike /day)_(south of 106st, manhattan)\n",
    "\n",
    "#### SIGNIFICANCE LEVEL:\n",
    "\n",
    "For this test, I'll use a significance level of $\\alpha=0.05$"
   ]
  },
  {
   "cell_type": "markdown",
   "metadata": {},
   "source": [
    "#### DATA STRATEGY:\n",
    "\n",
    "Citibike provides a json feed of all stations in the system. We'll parse through this to build a list of station IDs, names, and total bike capacity for each.\n",
    "\n",
    "Then we'll cross-reference a citibike map for the relevant stations for our study, and group our dataset into boundary and non-boundary stations (and drop unneeded stations)."
   ]
  },
  {
   "cell_type": "code",
   "execution_count": 14,
   "metadata": {
    "collapsed": false
   },
   "outputs": [],
   "source": [
    "# get station data from citibike station feed\n",
    "url = \"https://feeds.citibikenyc.com/stations/stations.json\"\n",
    "response = urllib.urlopen(url)\n",
    "stations = json.loads(response.read())"
   ]
  },
  {
   "cell_type": "code",
   "execution_count": 21,
   "metadata": {
    "collapsed": false
   },
   "outputs": [],
   "source": [
    "# use list comprehension to build a master list of relevant station data\n",
    "station_data = [{'id':station['id'],\n",
    "                 'stationName':station['stationName'],\n",
    "                 'totalDocks':station['totalDocks']} \n",
    "                for station in stations['stationBeanList']] "
   ]
  },
  {
   "cell_type": "markdown",
   "metadata": {},
   "source": [
    "Sadly, citibike doesn't provide a map with unique integer IDs for each station... instead, we need to inspect the map and collect a list of strings for stationNames in our boundary and non-boundary zones. Then we'll search the station_data list for those stationNames."
   ]
  },
  {
   "cell_type": "code",
   "execution_count": 16,
   "metadata": {
    "collapsed": true
   },
   "outputs": [],
   "source": [
    "# list of stationName for boundary zone: \n",
    "boundary_names = ['Cathedral Pkwy & Broadway', 'West End Ave & W 107 St', \n",
    "                  'W 106 St & Amsterdam Ave', 'W 107 St & Columbus Ave',\n",
    "                 'W 106 St & Central Park West', 'Central Park North & Adam Clayton Powell Blvd',\n",
    "                 'E 110 St & Madison Ave', 'E 106 St & Madison Ave', 'E 106 St & Lexington Ave',\n",
    "                 'E 109 St & 3 Ave', 'E 106 St & 1 Av']"
   ]
  },
  {
   "cell_type": "code",
   "execution_count": 20,
   "metadata": {
    "collapsed": false
   },
   "outputs": [],
   "source": [
    "# list of stationName for non-boundary zone: \n",
    "non_boundary_names = ['Riverside Dr & W 104 St', 'West End Ave & W 94 St', 'W 92 St & Broadway',\n",
    "                     'W 100 St & Broadway', 'W 95 St & Broadway', 'W 104 St & Amsterdam Ave',\n",
    "                     'Columbus Ave & W 95 St', 'Columbus Ave & W 103 St', 'W 100 St & Manhattan Ave',\n",
    "                     'Central Park W & W 96 St', 'Central Park West & W 100 St',\n",
    "                      'Central Park West & W 102 St', '5 Ave & E 93 St', '5 Ave & E 103 St',\n",
    "                      'E 97 St & Madison Ave', 'Madison Ave & E 99 St', 'E 91 St & Park Ave',\n",
    "                      'E 102 St & Park Ave','E 103 St & Lexington Ave', 'E 95 St & 3 Ave',\n",
    "                      'E 97 St & 3 Ave', '3 Ave & E 100 St', 'E 91 St & 2 Ave', '2 Ave & E 99 St',\n",
    "                      '2 Ave & E 104 St', '1 Ave & E 94 St', 'E 102 St & 1 Ave']"
   ]
  },
  {
   "cell_type": "markdown",
   "metadata": {},
   "source": [
    "This will be computationally slow, but we need to iterate through all station data to pick out those stations that belong in a boundary or non-boundary group."
   ]
  },
  {
   "cell_type": "code",
   "execution_count": 22,
   "metadata": {
    "collapsed": true
   },
   "outputs": [],
   "source": [
    "boundary_stations = []\n",
    "non_boundary_stations = []\n",
    "for station in station_data:\n",
    "    if station['stationName'] in boundary_names:\n",
    "        boundary_stations.append(station)\n",
    "    elif station['stationName'] in non_boundary_names:\n",
    "        non_boundary_stations.append(station)"
   ]
  },
  {
   "cell_type": "code",
   "execution_count": 30,
   "metadata": {
    "collapsed": false
   },
   "outputs": [],
   "source": [
    "# now that the lists are built, we'll be using integer IDs to identify the stations\n",
    "# we can drop all the station names to simplify things\n",
    "boundary_stations = [{'id':station['id'],\n",
    "                      'totalDocks':station['totalDocks']}\n",
    "                     for station in boundary_stations]\n",
    "\n",
    "non_boundary_stations = [{'id':station['id'],\n",
    "                      'totalDocks':station['totalDocks']}\n",
    "                     for station in non_boundary_stations]"
   ]
  },
  {
   "cell_type": "code",
   "execution_count": 31,
   "metadata": {
    "collapsed": false
   },
   "outputs": [
    {
     "data": {
      "text/plain": [
       "[{'id': 3323, 'totalDocks': 59},\n",
       " {'id': 3343, 'totalDocks': 23},\n",
       " {'id': 3357, 'totalDocks': 35},\n",
       " {'id': 3366, 'totalDocks': 19},\n",
       " {'id': 3374, 'totalDocks': 36},\n",
       " {'id': 3383, 'totalDocks': 25},\n",
       " {'id': 3387, 'totalDocks': 25},\n",
       " {'id': 3390, 'totalDocks': 24},\n",
       " {'id': 3400, 'totalDocks': 24},\n",
       " {'id': 3424, 'totalDocks': 27}]"
      ]
     },
     "execution_count": 31,
     "metadata": {},
     "output_type": "execute_result"
    }
   ],
   "source": [
    "boundary_stations"
   ]
  },
  {
   "cell_type": "code",
   "execution_count": 32,
   "metadata": {
    "collapsed": false
   },
   "outputs": [
    {
     "data": {
      "text/plain": [
       "[{'id': 3292, 'totalDocks': 43},\n",
       " {'id': 3293, 'totalDocks': 24},\n",
       " {'id': 3294, 'totalDocks': 35},\n",
       " {'id': 3295, 'totalDocks': 59},\n",
       " {'id': 3301, 'totalDocks': 39},\n",
       " {'id': 3302, 'totalDocks': 23},\n",
       " {'id': 3305, 'totalDocks': 39},\n",
       " {'id': 3307, 'totalDocks': 31},\n",
       " {'id': 3309, 'totalDocks': 30},\n",
       " {'id': 3312, 'totalDocks': 39},\n",
       " {'id': 3314, 'totalDocks': 32},\n",
       " {'id': 3316, 'totalDocks': 47},\n",
       " {'id': 3320, 'totalDocks': 31},\n",
       " {'id': 3325, 'totalDocks': 31},\n",
       " {'id': 3327, 'totalDocks': 27},\n",
       " {'id': 3328, 'totalDocks': 39},\n",
       " {'id': 3331, 'totalDocks': 39},\n",
       " {'id': 3336, 'totalDocks': 41},\n",
       " {'id': 3338, 'totalDocks': 31},\n",
       " {'id': 3341, 'totalDocks': 59},\n",
       " {'id': 3345, 'totalDocks': 35},\n",
       " {'id': 3350, 'totalDocks': 39},\n",
       " {'id': 3351, 'totalDocks': 25},\n",
       " {'id': 3363, 'totalDocks': 33},\n",
       " {'id': 3367, 'totalDocks': 35},\n",
       " {'id': 3379, 'totalDocks': 35}]"
      ]
     },
     "execution_count": 32,
     "metadata": {},
     "output_type": "execute_result"
    }
   ],
   "source": [
    "non_boundary_stations"
   ]
  },
  {
   "cell_type": "markdown",
   "metadata": {},
   "source": [
    "Now we need to load some actual trip data from citibike to use as our sample."
   ]
  },
  {
   "cell_type": "code",
   "execution_count": null,
   "metadata": {
    "collapsed": true
   },
   "outputs": [],
   "source": []
  }
 ],
 "metadata": {
  "kernelspec": {
   "display_name": "Python 2",
   "language": "python",
   "name": "python2"
  },
  "language_info": {
   "codemirror_mode": {
    "name": "ipython",
    "version": 2
   },
   "file_extension": ".py",
   "mimetype": "text/x-python",
   "name": "python",
   "nbconvert_exporter": "python",
   "pygments_lexer": "ipython2",
   "version": "2.7.11"
  }
 },
 "nbformat": 4,
 "nbformat_minor": 0
}
